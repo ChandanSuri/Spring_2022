{
 "cells": [
  {
   "cell_type": "markdown",
   "metadata": {
    "id": "Gf4iSTPFUs1_"
   },
   "source": [
    "# COMS W4732 Homework 2: Machine Learning Basics"
   ]
  },
  {
   "cell_type": "markdown",
   "metadata": {
    "id": "5DU2tIu0Us2C"
   },
   "source": [
    "Following the machine learning content covered in class, in this assignment we will explore some crucial concepts in gradient descent and backpropgation. \n",
    "\n",
    "Specifically, in Section 1, we will work with a **feedforward neural network** (also known as a **multi-layer perceptron**) implemented solely in numpy, reflect on the associated details of the **forward** pass and implement the **backpropagation** parts of our layers to train our MLP. In Section 2, we will independently look at some gradient-based optimization techniques that are popular with convex functions and have been shown to be useful in finding sufficiently satisfactory optima on the loss manifolds on parametrized models. \n",
    "\n",
    "Your job is to implement the sections marked with `TODO` to complete the tasks. Your tasks on this homework will be:\n",
    "\n",
    "## Section 1 (40 points) \n",
    "Review the details on the chain rule and the backproprapagation step from lecture. You should take a look at the guide we provide to get familiar with the forward pass and backward pass equations for a Multi-Layer Perceptron. You are required to implement all parts marked with a **TO DO:**. The goal of this assignment is to leave you with a very through understanding of forward pass as well as the backpropgation mechanics of a Multi-layer Peceptron. Namely, you will be working with:\n",
    "\n",
    "* a **linear** layer with **Leaky ReLU** \n",
    "* a **linear** layer with a custom activation function that has a learnable parameter\n",
    "* a **linear** output layer\n",
    "* a **softmax cross-entropy** Loss layer \n",
    "\n",
    "## Section 2 (60 points). \n",
    "We will introduce different gradient-based iterative optimization techniques which came from the domain of convex optimization and which have since been adapted for loss functions of modern neural networks that have millions of parameters. Try out a few of these to appreciate the improvements they make on each other. Specifically, we will look at:\n",
    "    \n",
    "* **Full Gradient Descent**\n",
    "* **Stochastic Gradient Descent**\n",
    "* **Stochastic Gradient Descent + Momentum**\n",
    "* **AdaGrad**\n",
    "* **Adaptive Moment Estimation (ADAM)**\n",
    "\n",
    "### About Submission\n",
    "\n",
    "- Please submit the notebook (ipynb and pdf) including the output of all cells. Please note that you should export your completed notebook as a PDF (CV2_HW2_UNI.pdf) and upload it to GradeScope.\n",
    "- Then, please submit the executable completed notebook (CV2_HW2_UNI.ipynb) to Cousework.\n",
    "- For both files, 1) remember to replace <UNI> with your own uni; 2) the completed notebook should show your code, as well as the final image you created.\n",
    "\n",
    "### Before your implementation\n",
    "\n",
    "- Please check the packages listed in the **requirements.txt**. You can also use `pip install -r requirements.txt` to install the packages directly.\n",
    "    "
   ]
  },
  {
   "cell_type": "markdown",
   "metadata": {
    "id": "pNBUvCPKUs2D"
   },
   "source": [
    "# Section 1: Backpropagation\n",
    "\n",
    "This assignment is aimed at leaving you with a very solid understanding of how backpropogation works in the context of a Neural Network. We have provided most of the code for a MLP (Multi-layer Perceptron) written completely in Numpy with some functions left for you to implement to get the network up and running. \n",
    "\n",
    "On correct completion, you will be able to successfully train your MLP for any classification problem where the input feature vector is relatively low-dimensional. We've provided code that pre-processes and trains your MLP on the **Red Wine Classification** dataset for binary-classification. This is to enable you to quickly run and test your MLP. \n",
    "\n",
    "## Lets get to it!\n",
    "\n",
    "As the building blocks of our MLP, we define three layer classes: Hidden, Output and Loss. \n",
    "Each of these inherit from our Base class and thus implement self.forward_pass(), self.backward_pass(), and contain self.update_weighhts(), which is already implemented. \n",
    "\n",
    "Before we dive in, we would like to highlight the distinction between the Hidden Layer and the Hidden_Vondrick layer as you will see defined below in the code.\n",
    "\n",
    "### Hidden Layer\n",
    "This is a standard Hidden Layer that uses Leaky ReLU as its activation function. Remember that Leaky ReLU is defined as a piecewise function:\n",
    "\n",
    "$g(x)= \\bigg\\{\n",
    "\\begin{aligned}\n",
    "& x:& x>0,&\\\\\n",
    "& 0.01x:& x<=0 \n",
    "\\end{aligned}$\n",
    "\n",
    "<br>\n",
    "\n",
    "### Hidden_Vondrick Layer (utilizes cuztom activation function with learnable parameter)\n",
    "This layer is similar to the standard Hidden layer, but with one notable exception. We will use a custom activation function g'(x). Furthermore, we will make exponent parameter 'n' learnable, and update it also leveraging the chain rule and backpropgation.\n",
    "\n",
    "$g'(x)= \\bigg\\{\n",
    "\\begin{aligned}\n",
    "& x^n:& x>0,&\\\\\n",
    "& 0.01x:& x<=0 \n",
    "\\end{aligned}$"
   ]
  },
  {
   "cell_type": "markdown",
   "metadata": {},
   "source": [
    "## Instructions\n",
    "\n",
    "Go over the code for the MLP throughly and understand each update equation implemented as code. The forward_pass() method is implemented for you for every layer and thus you may find printing out variables and their shapes useful, before you begin implementing the backpropogation methods. Having a clear understanding of the forward and backward pass formulae is crucial for this Section. Your job is to implement only sections marked as **TO DO:** (7 in total)\n",
    "(The PDF in the zip file is for your reference)"
   ]
  },
  {
   "cell_type": "code",
   "execution_count": 1,
   "metadata": {},
   "outputs": [],
   "source": [
    "import numpy as np\n",
    "import random\n",
    "import pandas as pd\n",
    "import matplotlib.pyplot as plt\n",
    "%matplotlib inline"
   ]
  },
  {
   "cell_type": "code",
   "execution_count": 2,
   "metadata": {
    "id": "yshYjJWkUs2E"
   },
   "outputs": [],
   "source": [
    "class Base:\n",
    "    def __init__(self, input_dims:int, output_dims:int):\n",
    "        self.input_dims = input_dims\n",
    "        self.output_dims = output_dims\n",
    "\n",
    "    def forward_pass(self):\n",
    "        pass \n",
    "    \n",
    "    def backward_pass(self):\n",
    "        pass\n",
    "\n",
    "    def update_weights(self, W, b, del_W, del_b, learning_rate):\n",
    "        W-=(learning_rate*del_W)\n",
    "        b-=(learning_rate*del_b)\n",
    "        return W, b\n",
    "\n",
    "class Hidden(Base):\n",
    "    def __init__(self, input_dims:int, output_dims:int):\n",
    "        super().__init__(input_dims, output_dims)\n",
    "        \n",
    "        self.W = np.random.random((input_dims, output_dims)) - 0.5\n",
    "        self.c = np.random.random((1, output_dims)) - 0.5\n",
    "\n",
    "    def forward_pass(self, X):\n",
    "        U =X@ self.W + self.c\n",
    "        activations= self.leaky_relu(U)\n",
    "        return activations\n",
    "\n",
    "    def backward_pass(self, X, h, dLdh, alpha, learning_rate):\n",
    "        \"\"\"\n",
    "        TO DO:  Finish this backward_pass method by completing the lines marked by the #s. \n",
    "        Remember to use the helper functions update_weights(), leaky_relu, and leaky_relu_derivative wherever needed.\n",
    "        \"\"\"\n",
    "\n",
    "        relu_derivative= #\n",
    "        dLdU = #\n",
    "        dLdW = #\n",
    "        dLdc = #\n",
    "        for_prev = #                                                              \n",
    "\n",
    "        self.W, self.c = self.update_weights(self.W, self.c, dLdW, dLdc, learning_rate)\n",
    "        return for_prev \"\"\"Note: for_prev is the gradient dL/dh' we pass onto the previous layer h' \"\"\" \n",
    "\n",
    "    def leaky_relu(self, inp):\n",
    "        activation_mask = 1.0 * (inp >0) + 0.01*(inp<0)\n",
    "        activations= np.multiply(inp, activation_mask)\n",
    "        return activations \n",
    "\n",
    "    def leaky_relu_derivative(self, h):\n",
    "        \"\"\"\n",
    "        TO DO: Implement the leaky_relu_derivative method. \n",
    "        This should return a numpy ndarray of shape (batch_size x self.output_dims)\n",
    "        \"\"\"\n",
    "        return leaky_relu_derivative\n",
    "\n",
    "class Hidden_Vondrick(Base):\n",
    "    def __init__(self, input_dims:int, output_dims:int):\n",
    "        super().__init__(input_dims, output_dims)\n",
    "        \n",
    "        self.W = np.random.random((input_dims, output_dims))\n",
    "        self.c = np.random.random((1, output_dims))\n",
    "        self.U= None\n",
    "        self.vondrick_exponent= np.random.uniform(1.4,2) #The learnable exponent, called Vondrick Exponent, for our custom activation function is initilized from a Unifom(1.4,2) distribution. You may change this if you really want to, but keep it close to this range to ensure training stability.\n",
    "\n",
    "        print(\"Intital Value of Vondrick Exponent: \"+ str(self.vondrick_exponent) )\n",
    "\n",
    "    def forward_pass(self, X):\n",
    "        self.U =X@ self.W + self.c\n",
    "        #Applys the custom activation elementwise\n",
    "        activations= self.vondrick_activation(self.U)\n",
    "        return activations\n",
    "\n",
    "    def backward_pass(self, X, h, dLdh, alpha, learning_rate=0.0005):\n",
    "    \n",
    "        \"\"\"\n",
    "        # TO DO: Fill in this  backward pass method.\n",
    "        \"\"\"\n",
    "\n",
    "        #Note, that for the purposes of training stablity, we have hard-coded the learning rate here to be 0.0005\n",
    "        self.W, self.c = self.update_weights(self.W, self.c, dLdW, dLdc, 0.0005) \n",
    "\n",
    "        #Gradient Descent on our learnable activation function parameter: Updating exponent, but clipping it's lower range to 1.01\n",
    "        self.vondrick_exponent= max(1.01,self.vondrick_exponent- 0.001*dL_dexponent_scalar )\n",
    "\n",
    "        return for_prev\n",
    "\n",
    "    def vondrick_activation(self, U):\n",
    "        \"\"\"\n",
    "        TO DO:\n",
    "        Implement this helper function that the forward pass uses compute to compute the activation map for the given input U.\n",
    "\n",
    "        return activations: (batch_size x output_dims)\n",
    "        \"\"\"\n",
    "        return activations \n",
    "\n",
    "    def vondrick_activation_derivative(self):\n",
    "        \"\"\"\n",
    "        # TO DO:\n",
    "        Implement this helper function that uses the stored self.U to do a backward pass and return both dh/dU and dh/dexponent. Both should be numpy matrices dimensions batch_size x self.output_dims \n",
    "\n",
    "        return activations: (batch_size x self.output_dims)\n",
    "        \"\"\"\n",
    "        return derivative_wrt_U, derivative_wrt_exponent\n",
    "\n",
    "    \n",
    "class Output(Base):\n",
    "\n",
    "    def __init__(self, input_dims, output_dims):\n",
    "        super().__init__(input_dims, output_dims)\n",
    "        self.w = np.random.random((input_dims, output_dims)) -0.5\n",
    "        self.b = np.random.random((1, output_dims)) -0.5\n",
    "\n",
    "    def forward_pass(self, h):\n",
    "        z = h @self.w + self.b\n",
    "        z = z - np.max(z, axis = 1).reshape(z.shape[0], 1) # trick: subtracting maz z as softmax is not effected: prevents overflow when we do exponentation\n",
    "        return z\n",
    "\n",
    "    def backward_pass(self, h, dLdz, alpha, learning_rate):\n",
    "        \"\"\" \n",
    "        # TO DO: Implement the backward pass for the output layer. \n",
    "        Finally, update the Weight matrix and bias vector appropriately, and then return dLdh, which will be passed backed to previous layers during backpropgation\n",
    "        \"\"\"\n",
    "        \n",
    "        self.w, self.b = self.update_weights(self.w, self.b, dLdw, dLdb, learning_rate)\n",
    "        return dLdh\n",
    "\n",
    "class Loss(Base): \n",
    "    \n",
    "    def __init__(self, input_dims, output_dims):\n",
    "        super().__init__(input_dims, output_dims)\n",
    "    \n",
    "    def forward_pass(self, z, y):\n",
    "\n",
    "        temp = -z + np.log(np.sum(np.exp(z), axis = 1)).reshape(z.shape[0], 1) #Computing Softmax Cross Entropy Loss terms for each z_i. Note dimensions of temp: batch_size x output layer output_dims\n",
    "        L = temp[np.arange(z.shape[0]), y.flatten().astype(int)] #Extracts Loss term corresponding only to ground truth class from each row (sample). \n",
    "        L = np.mean(L) #Mean Loss over the batch\n",
    "        return L \n",
    "\n",
    "    def backward_pass(self, z, y):\n",
    "        #Recall the simplified expression we get for dL_i/dz_k= p_k- I(y_i=k) (Details in the guide)\n",
    "        temp1 = np.zeros(z.shape)\n",
    "        for i in range(z.shape[0]):\n",
    "            true_class = int(y[i].item())\n",
    "            temp1[i][true_class] = -1     #-1 is added to the loss term corresponding to the true class\n",
    "\n",
    "        temp2 = np.exp(z)/ np.sum(np.exp(z), axis =1 ).reshape(z.shape[0], 1) #Matrik of p_k terms, aka, elements replaced by softmaxed probabilities\n",
    "        for_previous = temp1 + temp2 \n",
    "        return for_previous\n",
    "    \n",
    "class NN: \n",
    "    def __init__(self): \n",
    "        self.output_layer= self.loss_layer =  None \n",
    "        self.hidden_layers = []\n",
    "\n",
    "    def add_layer(self, name, input_dims, output_dims):\n",
    "        if name.lower() == 'hidden':\n",
    "            self.hidden_layers.append(Hidden(input_dims, output_dims))\n",
    "        elif name.lower() == 'hidden_vondrick':\n",
    "            self.hidden_layers.append(Hidden_Vondrick(input_dims, output_dims))\n",
    "        elif name.lower() =='output':\n",
    "            self.output_layer = Output(input_dims, output_dims)\n",
    "        elif name.lower() =='loss':\n",
    "            self.loss_layer = Loss(input_dims, output_dims) \n",
    "    \n",
    "    def forward_prop(self, X, y, alpha): \n",
    "        hidden_outputs = []\n",
    "        z = L = h= None \n",
    "        for layer in self.hidden_layers:\n",
    "            h = layer.forward_pass(X)\n",
    "            hidden_outputs.append(h)\n",
    "            X = h \n",
    "        z = self.output_layer.forward_pass(h)\n",
    "        L = self.loss_layer.forward_pass(z, y)\n",
    "        for layer in self.hidden_layers:\n",
    "            L += 0.5*alpha*np.linalg.norm(layer.W)**2\n",
    "        L+= 0.5*alpha* np.linalg.norm(self.output_layer.w)**2 \n",
    "        return hidden_outputs, z, L \n",
    "\n",
    "    def backward_prop(self, X, hidden_outputs, z, y, alpha =0.01, learning_rate =0.01):\n",
    "        dLdz = self.loss_layer.backward_pass(z, y)\n",
    "        for_previous = self.output_layer.backward_pass(hidden_outputs[-1], dLdz, alpha, learning_rate) \n",
    "        for i in range(len(self.hidden_layers)-1,0,-1):\n",
    "            temp = self.hidden_layers[i].backward_pass(hidden_outputs[i-1], hidden_outputs[i], for_previous, alpha, learning_rate)\n",
    "            for_previous = temp \n",
    "        self.hidden_layers[0].backward_pass(X, hidden_outputs[0], for_previous, alpha, learning_rate)\n",
    "\n",
    "    def train(self, X, y, epochs, batch_size, learning_rate, alpha, show_training_accuracy=True): \n",
    "  \n",
    "        loss = []\n",
    "        for epoch in range(epochs):\n",
    "            predicted = self.predict(X)\n",
    "            correct = 0 \n",
    "            for i in range(len(predicted)):\n",
    "                if predicted[i] == y[i]:\n",
    "                    correct+=1\n",
    "            if show_training_accuracy:\n",
    "                print(f'the accuracy on the training data after epoch {epoch + 1} is {correct/X.shape[0]}')\n",
    "            temp = total = 0 \n",
    "            for k in range(0, X.shape[0], batch_size):\n",
    "                inp = X[k:k+batch_size]\n",
    "                out = y[k:k+batch_size]\n",
    "\n",
    "                hidden_outputs, z, L = self.forward_prop(inp, out, alpha)\n",
    "                temp+=L \n",
    "                total+=1\n",
    "                self.backward_prop(inp, hidden_outputs, z, out, alpha, learning_rate)\n",
    "            \n",
    "            loss.append(temp/total)\n",
    "\n",
    "        return loss\n",
    "\n",
    "    def predict(self, X): \n",
    "        \"\"\"\n",
    "        TO DO:\n",
    "        Implement the predict() method that takes in a batch input X (number_of_samples x feauture_vector_dims) and returns an nparray y of predictions (number_of_samples x 1)\n",
    "\n",
    "        \"\"\"\n",
    "        return predictions\n",
    "    \n",
    "    def compute_accuracy(self, X, Y):\n",
    "        predicted_Y= self.predict(X)\n",
    "        correct=0\n",
    "        for i in range(len(predicted_Y)):\n",
    "            if predicted_Y[i] == Y[i]:\n",
    "                correct+=1\n",
    "        return correct/len(Y)\n",
    "\n",
    "def plot_loss(loss_li):\n",
    "    #Given a list of losses over the epochs, plots the loss curve.\n",
    "    plt.xlabel(\"epoch\")\n",
    "    plt.ylabel(\"loss\")\n",
    "    plt.title(\"loss of the neural network per epoch\")\n",
    "    plt.plot(loss_li)\n",
    "    plt.show()"
   ]
  },
  {
   "cell_type": "markdown",
   "metadata": {},
   "source": [
    "# Testing your MLP: Red Wine Quality Classification Dataset\n",
    "\n",
    "## More about the dataset:\n",
    "https://archive.ics.uci.edu/ml/datasets/wine+quality"
   ]
  },
  {
   "cell_type": "code",
   "execution_count": 3,
   "metadata": {},
   "outputs": [],
   "source": [
    "from sklearn.neural_network import MLPClassifier\n",
    "from sklearn.preprocessing import MinMaxScaler\n",
    "from sklearn.model_selection import train_test_split"
   ]
  },
  {
   "cell_type": "code",
   "execution_count": 4,
   "metadata": {},
   "outputs": [],
   "source": [
    "# If you are using colab, pls refer to commands below for file uploading. \n",
    "# Otherwise, just ignore it.\n",
    "'''\n",
    "from google.colab import files\n",
    "uploaded = files.upload()\n",
    "'''\n",
    "wine_dataset = pd.read_csv('./winequality-red.csv')"
   ]
  },
  {
   "cell_type": "code",
   "execution_count": null,
   "metadata": {},
   "outputs": [],
   "source": [
    "#Converting Labels to a Binary Classification Problem\n",
    "def Convert_Labels(data):\n",
    "    data.loc[:,'quality'] = np.where(data.loc[:,'quality']>=6, 1, 0)\n",
    "    return data\n",
    "\n",
    "#Scales features to constrain them to lie within the default range (0,1)\n",
    "def DataScaler(data):\n",
    "    scaler = MinMaxScaler()\n",
    "    data = scaler.fit_transform(data)\n",
    "    return data\n",
    "\n",
    "all_columns = list(wine_dataset)\n",
    "target = ['quality']\n",
    "print(all_columns)\n",
    "features = list(set(all_columns)-set(target))\n",
    "print(features)\n",
    "wine_dataset.loc[:,features] = DataScaler(wine_dataset.loc[:,features])\n",
    "\n",
    "wine_dataset.head()"
   ]
  },
  {
   "cell_type": "code",
   "execution_count": null,
   "metadata": {},
   "outputs": [],
   "source": [
    "label_converted_dataset = Convert_Labels(wine_dataset)\n",
    "print(label_converted_dataset)\n",
    "#As you can see, the quality column (our labels) now has either 0 (for quality<6) and 1 (for quality>=6)"
   ]
  },
  {
   "cell_type": "code",
   "execution_count": null,
   "metadata": {},
   "outputs": [],
   "source": [
    "#Quick Sanity check that our dataset it indeed relatively balanced\n",
    "label_converted_dataset['quality'].mean()"
   ]
  },
  {
   "cell_type": "code",
   "execution_count": 8,
   "metadata": {},
   "outputs": [],
   "source": [
    "y_wine = label_converted_dataset.loc[:,'quality']\n",
    "X_wine = label_converted_dataset.drop(target,axis=1)"
   ]
  },
  {
   "cell_type": "code",
   "execution_count": 9,
   "metadata": {},
   "outputs": [],
   "source": [
    "X_wine_np= np.asarray(X_wine)\n",
    "y_wine_np= np.asarray(y_wine)\n",
    "X_wine_train, X_wine_test, y_wine_train, y_wine_test = train_test_split(X_wine_np, y_wine_np, test_size=0.25, random_state=1)"
   ]
  },
  {
   "cell_type": "markdown",
   "metadata": {},
   "source": [
    "Here, you compare your Neural Network's performance (Training and Test Accuracy) with that of Scikit-learn's built-in model MLPClassifier. We, of course, do not expect you to exceed their performance, but your accuracies should be reasonably close to MLPClassifier's.\n",
    "\n",
    "For the Red Wine Dataset, you should be getting over 70% for both your training as well as test set accuracies. If your MLP's training accuracy hovers around 50%, that is a sign that your model is not learning and you need to go back and fix a bug in your implementation."
   ]
  },
  {
   "cell_type": "code",
   "execution_count": null,
   "metadata": {},
   "outputs": [],
   "source": [
    "wine_quality_classifier = MLPClassifier(solver='sgd',\n",
    "                                            alpha=0.01, \n",
    "                                            learning_rate_init=0.001,\n",
    "                                            batch_size=16,\n",
    "                                            hidden_layer_sizes=(12,8,2),\n",
    "                                            random_state=1,\n",
    "                                            max_iter=200\n",
    "                                            )\n",
    "\n",
    "wine_quality_classifier.fit(X_wine_train, y_wine_train)"
   ]
  },
  {
   "cell_type": "code",
   "execution_count": null,
   "metadata": {},
   "outputs": [],
   "source": [
    "wine_quality_classifier.score(X_wine_test, y_wine_test)"
   ]
  },
  {
   "cell_type": "markdown",
   "metadata": {},
   "source": [
    "## Evaluating your MLP on the Red Wine Dataset\n",
    "\n",
    "First, we instantiate and train a standard MLP (that uses the RELU activation function)."
   ]
  },
  {
   "cell_type": "code",
   "execution_count": 12,
   "metadata": {},
   "outputs": [],
   "source": [
    "my_wine_NN_1 = NN()\n",
    "num_epochs= 150\n",
    "lambda_reg= 0.01\n",
    "learning_rate= 0.001\n",
    "batch_size= 32"
   ]
  },
  {
   "cell_type": "code",
   "execution_count": 13,
   "metadata": {},
   "outputs": [],
   "source": [
    "my_wine_NN_1.add_layer('Hidden', 11, 16) #Note that the first layer's weight matrix must be 11 x k , as the input feature vector is 11-dimensional.\n",
    "my_wine_NN_1.add_layer('Hidden', 16, 12)\n",
    "my_wine_NN_1.add_layer('Hidden', 12, 8)\n",
    "my_wine_NN_1.add_layer('Output', 8, 2)\n",
    "my_wine_NN_1.add_layer('Loss', 0, 0)"
   ]
  },
  {
   "cell_type": "code",
   "execution_count": null,
   "metadata": {},
   "outputs": [],
   "source": [
    "loss_wine_li_1= my_wine_NN_1.train(X_wine_train, y_wine_train, num_epochs, batch_size, learning_rate, lambda_reg)\n",
    "plot_loss(loss_wine_li_1)"
   ]
  },
  {
   "cell_type": "code",
   "execution_count": null,
   "metadata": {},
   "outputs": [],
   "source": [
    "print(my_wine_NN_1.compute_accuracy(X_wine_test, y_wine_test))"
   ]
  },
  {
   "cell_type": "code",
   "execution_count": 16,
   "metadata": {},
   "outputs": [],
   "source": [
    "my_wine_NN_2 = NN()\n",
    "num_epochs= 100\n",
    "lambda_reg= 0.01\n",
    "learning_rate= 0.001\n",
    "batch_size= 32"
   ]
  },
  {
   "cell_type": "code",
   "execution_count": null,
   "metadata": {},
   "outputs": [],
   "source": [
    "my_wine_NN_2.add_layer('Hidden', 11, 16) #Note that the first layer's weight matrix must be 11 x k , as the input feature vector is 11-dimensional.\n",
    "my_wine_NN_2.add_layer('Hidden', 16, 12)\n",
    "my_wine_NN_2.add_layer('Hidden_Vondrick', 12, 8)\n",
    "my_wine_NN_2.add_layer('Output', 8, 2)\n",
    "my_wine_NN_2.add_layer('Loss', 2, 2)"
   ]
  },
  {
   "cell_type": "code",
   "execution_count": null,
   "metadata": {},
   "outputs": [],
   "source": [
    "loss_wine_li_2= my_wine_NN_2.train(X_wine_train, y_wine_train, num_epochs, batch_size, learning_rate, lambda_reg)\n",
    "plot_loss(loss_wine_li_2)"
   ]
  },
  {
   "cell_type": "code",
   "execution_count": null,
   "metadata": {},
   "outputs": [],
   "source": [
    "print(my_wine_NN_2.compute_accuracy(X_wine_test, y_wine_test))"
   ]
  },
  {
   "cell_type": "markdown",
   "metadata": {
    "id": "pnVlnB2IUs2E"
   },
   "source": [
    "## Section 2: Optimization"
   ]
  },
  {
   "cell_type": "markdown",
   "metadata": {
    "id": "O8oPTvQMUs2F"
   },
   "source": [
    "You now have intuition for how the backpropagation procedure updates every single node or layer in the neural network with the gradient of the loss function with respect to the specific parameters. Luckily, you will not have to repeat this tedious enumeration in the future as autograd packages can help you track and organize the gradient tracking process. Even better, most modern neural network libraries like PyTorch and TensorFlow have their own autograd versions which abstract gradient calculations into a single function call on your loss function, instantly tracking along a computational neural network graph to quickly update gradients. \n",
    "\n",
    "Equally important to the machine learning pipeline is the process of optimization: actually using the calculated **gradient** at the current values and moving to the next values, which are closer to the optimal arguments to our function. A version of **stochastic gradient descent** was already used in section 1 to train the multilayer perceptron.\n",
    "\n",
    "In a perfect world, once we have an analytical formulation for the gradient of a function, we can go back to the classic technique from Calc 2/Calc 3 of setting the gradient to 0 and calculating the values of the variables at the optimal location. Indeed take \n",
    "\n",
    "$$f(x, y) = x^2 + y^2$$\n",
    "\n",
    "We have that:\n",
    "\n",
    "$$\\nabla f(x, y) = \\begin{bmatrix}\n",
    "2x \\\\\n",
    "2y \\\\\n",
    "\\end{bmatrix} = \\begin{bmatrix}\n",
    "0 \\\\\n",
    "0 \\\\\n",
    "\\end{bmatrix}$$\n",
    "\n",
    "yielding the location of the optima at \n",
    "\n",
    "$$\n",
    "\\begin{bmatrix}\n",
    "x \\\\\n",
    "y \\\\\n",
    "\\end{bmatrix} = \\begin{bmatrix}\n",
    "0 \\\\\n",
    "0 \\\\\n",
    "\\end{bmatrix}\n",
    "$$"
   ]
  },
  {
   "cell_type": "markdown",
   "metadata": {
    "id": "ElZrLgDqUs2H"
   },
   "source": [
    "However, this technique does not work well with most functions: it is the exception rather than norm to set values to 0 to get and classify the optima. Moreover as the order of the partial derivatives increases, the resulting polynomials become harder and harder to solve (even if a solution is possible) and the problem quickly becomes computationally intractable. Second order methods (Hessian matrices) are required to further classify if these points are in any way useful (saddle points for example would be severely detrimental stopping points for our optimization problem) and are notoriously difficult computationally. \n",
    "\n",
    "We will now proceed to look at some well-known gradient-based iterative algorithms that have successfully been deployed in training deep learning models. In a typical machine learning pipeline, these optimizers will only be useful after the backpropagation stage is complete. At this stage we have that the network parameters $\\theta$ have an associated gradient with respect to the loss $\\frac{\\delta\\mathcal{L}}{\\delta\\theta}$. This step involves using the gradient to nudge $\\theta$ towards an optimum value, i.e, the $\\theta$ that would yield the lowest possible loss.\n",
    "\n",
    "In reality, loss functions that are encountered in neural networks are parametrized by hundreds, thousands and millions of parameters, and hence it is not always easy to visualize or study the exact properties of optimization algorithms on them. Typically such optimization functions are designed for **convex** functions, which are characterized, amidst others by **Jensen's inequality**, meaning that the function always lies below any surface connecting two points on this surface, or precisely for a function $f: X \\mapsto Y$:\n",
    "\n",
    "$$ f(\\theta \\vec{x} + (1 - \\theta)\\vec{y}) \\leq \\theta \\vec{x} + (1 - \\theta)\\vec{y}$$\n",
    "\n",
    "for $x, y \\in X$ and $0 \\leq \\theta \\leq 1$. In $\\mathbb{R}^3$ the **bowl** or **sphere** function is the archetypical convex function.\n",
    "\n",
    "$$f(x, y) = x^2 + y^2$$\n",
    "\n",
    "While convex theory gives convenient bounds on gradient based optimization, it is not enough to stop here as we do not expect the loss function for our machine learning models to be convex. Optimization research then focuses on studying the behavior of algorithms on test functions that accentuate some of the possible problematic optimization scenarios we might run into on a loss manifold in higher dimensions. For example, one potential issue we have studied in class is that in an iterative optimization process, we might get stuck in a local optima. A potential test function that could especially be indicative of if an optimization algorithm handles this issue, is the following function, which we will call the **mult** function:\n",
    "\n",
    "$$f(x, y) = \\sin(\\sqrt(x^2 + y^2)) $$\n",
    "\n",
    "Another issue could be a point which has different signs to its curvature in different directions, but locally has no gradient, aka a saddle point. A \"test\" function to effectively evaluate an algorithm's performance on saddle points could be \n",
    "\n",
    "$$f(x, y) = x^3 + 3x y^2$$\n",
    "\n",
    "or otherwise known as the **monkey saddle**. \n",
    "\n",
    "As a final example, it might be concerning if a point has a very high gradient in one direction but extremely low gradient aka a high condition number is associated with its eigendecomposition of the Hessian (if you didn't understand this last line, that's fine- the Hessian only comes into play while giving a proof of convergence for convex functions for gradient descent and such theory is beyond the scope of this class. An alternate way of thinking why this is an issue is because it will cause a zig-zag convergence to the optima when we can potentially save a lot of iterations by just taking a step along one axis). A function to test convergence performance emperically for this issue could be one shaped like a taco shell. A well known function of this kind is the **Matyas** function.\n",
    "\n",
    "$$f(x, y) = 0.26(x^2 + y^2) -0.48xy$$\n",
    "\n",
    "Bonus point for figuring out who the **Matyas** function is named after, because I looked forever in the hopes of adding a half-clever note on who Matyas was to improve the readability of this homework with a casual fun fact that has nothing to do with machine learning, but I ended up getting lost online and achieving nothing for 30 mins."
   ]
  },
  {
   "cell_type": "markdown",
   "metadata": {
    "id": "vP-FjDTzUs2K"
   },
   "source": [
    "**Implement the said functions below as bowl, mult, monkey and matyas and use the plot function below to visualize what they look like. Add a comment on each to explain what there utility might be as test functions.**"
   ]
  },
  {
   "cell_type": "code",
   "execution_count": 2,
   "metadata": {
    "executionInfo": {
     "elapsed": 536,
     "status": "ok",
     "timestamp": 1622701983730,
     "user": {
      "displayName": "Ishaan Preetam Chandratreya",
      "photoUrl": "https://lh3.googleusercontent.com/a-/AOh14GitY9ZPkHr783-fYDTO3yZvHLoeBroKqe3tN9RliA=s64",
      "userId": "13279136665094214597"
     },
     "user_tz": 240
    },
    "id": "bEx2NJO7Us2K"
   },
   "outputs": [],
   "source": [
    "from mpl_toolkits.mplot3d import Axes3D\n",
    "from matplotlib.colors import LogNorm\n",
    "import matplotlib.colors\n",
    "from matplotlib import animation, rc\n",
    "from IPython.display import HTML\n",
    "import matplotlib.pyplot as plt\n",
    "import autograd.numpy as np\n",
    "from autograd import grad\n",
    "from autograd import elementwise_grad as egrad\n",
    "from scipy.optimize import minimize\n",
    "from collections import defaultdict\n",
    "from itertools import zip_longest\n",
    "from functools import partial\n",
    "\n",
    "\n",
    "def bowl():\n",
    "    '''\n",
    "    TODO\n",
    "\n",
    "    Implement the bowl function as defined above.\n",
    "\n",
    "    Add comment here explaining why it is a reasonable test function.\n",
    "    '''\n",
    "\n",
    "\n",
    "    def f_bowl(x, y):\n",
    "        \n",
    "        out = # CODE HERE\n",
    "    \n",
    "        return out\n",
    "    \n",
    "    def opt_bowl():\n",
    "        \n",
    "        return np.array([0., 0.])\n",
    "    return f_bowl, opt_bowl\n",
    "\n",
    "    \n",
    "    \n",
    "def mult():\n",
    "    '''\n",
    "    TODO\n",
    "\n",
    "    Implement the mult function as defined above.\n",
    "\n",
    "    Add comment here explaining why it is a reasonable test function.\n",
    "    '''\n",
    "    \n",
    "    def f_mult(x, y):\n",
    "\n",
    "        out = # CODE HERE\n",
    "        \n",
    "        return out\n",
    "    \n",
    "    def opt_mult():\n",
    "        \n",
    "        return np.array([0., 0.])\n",
    "    \n",
    "    return f_mult, opt_mult\n",
    "\n",
    "def monkey():\n",
    "    '''\n",
    "    TODO\n",
    "\n",
    "    Implement the monkey saddle function as defined above.\n",
    "\n",
    "    Add comment here explaining why it is a reasonable test function.\n",
    "    '''\n",
    "\n",
    "    def f_monkey(x, y):\n",
    "\n",
    "        out = # CODE HERE\n",
    "        \n",
    "        return out\n",
    "    \n",
    "    def opt_monkey():\n",
    "        \n",
    "        return np.array([0., 0.])\n",
    "    \n",
    "    return f_monkey, opt_monkey\n",
    "\n",
    "    \n",
    "def matyas():\n",
    "    '''\n",
    "    TODO\n",
    "\n",
    "    Implement the mult function as defined above.\n",
    "\n",
    "    Add comment here explaining why it is a reasonable test function.\n",
    "    '''\n",
    "\n",
    "    def f_matyas(x, y):\n",
    "\n",
    "        out = # CODE HERE\n",
    "        \n",
    "        return out\n",
    "    \n",
    "    def opt_matyas():\n",
    "        \n",
    "        return np.array([0., 0.])\n",
    "        \n",
    "    \n",
    "    return f_matyas, opt_matyas\n",
    "\n",
    "\n",
    "def plot_func(f):\n",
    "    \n",
    "    func, opt = f()\n",
    "    \n",
    "    #Set grid parameters\n",
    "    xmin = -4.5\n",
    "    xmax= 4.5\n",
    "    ymin = -4.5\n",
    "    ymax = 4.5\n",
    "    step = 0.2\n",
    "    \n",
    "    x, y = np.meshgrid(np.arange(xmin, xmax + step, step), np.arange(ymin, ymax + step, step))\n",
    "    z = func(x, y)\n",
    "    cp = opt()\n",
    "    optima = cp.reshape(-1, 1)\n",
    "    \n",
    "    fig = plt.figure(figsize=(12,6), dpi = 100)\n",
    "    ax = fig.add_subplot(1,2,1,projection='3d')\n",
    "    ax.plot_surface(x, y, z,  rstride=5, cstride=5, alpha = 0.5, cmap=plt.cm.plasma)\n",
    "    cset = ax.contourf(x, y, z, 25, zdir='z', offset=-1, alpha=0.6, cmap=plt.cm.coolwarm)\n",
    "    out1 = func(*optima)\n",
    "    \n",
    "    ax.plot(*optima, out1 , 'r*', markersize=10)\n",
    "\n",
    "    ax.set_xlabel('$x$')\n",
    "    ax.set_ylabel('$y$')\n",
    "    ax.set_zlabel('$z$')"
   ]
  },
  {
   "cell_type": "code",
   "execution_count": null,
   "metadata": {
    "colab": {
     "base_uri": "https://localhost:8080/",
     "height": 1000
    },
    "executionInfo": {
     "elapsed": 2361,
     "status": "ok",
     "timestamp": 1622701988195,
     "user": {
      "displayName": "Ishaan Preetam Chandratreya",
      "photoUrl": "https://lh3.googleusercontent.com/a-/AOh14GitY9ZPkHr783-fYDTO3yZvHLoeBroKqe3tN9RliA=s64",
      "userId": "13279136665094214597"
     },
     "user_tz": 240
    },
    "id": "Q4k00DBqUs2L",
    "outputId": "95392097-d7bb-4106-df50-441af81ab218",
    "scrolled": false
   },
   "outputs": [],
   "source": [
    "plot_func(monkey)\n",
    "plot_func(mult)\n",
    "plot_func(matyas)\n",
    "plot_func(bowl)"
   ]
  },
  {
   "cell_type": "markdown",
   "metadata": {
    "id": "MiUUb5ygUs2M"
   },
   "source": [
    "## Gradient Descent "
   ]
  },
  {
   "cell_type": "markdown",
   "metadata": {
    "id": "FR_L_lYpUs2N"
   },
   "source": [
    "$$ \\theta = \\theta - \\alpha \\nabla_{\\theta}\\mathcal{L}(\\theta)$$\n",
    "\n",
    "We computed the gradient with respect to each of the parameters and make an update in the opposite direction of the local gradient. $\\alpha$ which is the learning rate, is a hyperparam that controls how quickly gradient descent converges. If it is too low, too many updates may be required, especially as gradients are small, and if it is too large you may overshoot the optima. In the context of batch gradient descent- at each epoch where the above update is ran- batch gradient descent requires that the entire loss function be computed at each stage through a pass through the entire training data so that the calculation of the $\\mathcal{L}(\\theta)$ and its subsequent gradient be accurate. As a result, this method is usually very slow. Additionally, it is only guaranteed to converge to the global minimum for convex functions such as the bowl functions and this is often not the case in machine learning, in which case it is guaranteed to only converge to local minima.\n",
    "\n",
    "Implement a version of gradient descent below."
   ]
  },
  {
   "cell_type": "code",
   "execution_count": 4,
   "metadata": {
    "id": "j_Tx2_BAUs2N"
   },
   "outputs": [],
   "source": [
    "def gradient_descent(x, y, dx, dy, hparams):\n",
    "    '''\n",
    "    x: value of x before update\n",
    "    y: value of y before update\n",
    "    dx: derivative wrt x\n",
    "    dy: derivative wrt y\n",
    "    hparams must contain alpha\n",
    "\n",
    "    TODO\n",
    "\n",
    "    Implement the update rule and return the new value of x, y after the update\n",
    "    '''\n",
    "    \n",
    "    alpha = hparams['alpha']\n",
    "\n",
    "    #CODE HERE\n",
    "    \n",
    "    return x, y "
   ]
  },
  {
   "cell_type": "markdown",
   "metadata": {
    "id": "zzjkajLRUs2O"
   },
   "source": [
    "## Stochastic Gradient Descent"
   ]
  },
  {
   "cell_type": "markdown",
   "metadata": {
    "id": "_40-q-vwUs2O"
   },
   "source": [
    "$$ \\theta = \\theta - \\alpha \\nabla_{\\theta}\\mathcal{L}(\\theta; x^i, y^i)$$\n",
    "\n",
    "This method is very similar to full gradient descent, except that instead of calculating the loss function over all training examples, the loss function is only calculated over a single training data point at a time. As such the estimate of $\\mathcal{L}(\\theta)$ and its gradient is not precise, but in return, SGD is much faster, and additionally reduces redundant time for recomputing gradients for similar examples.\n",
    "\n",
    "Gradients received can be highly erratic because they are not calculated over the full dataset, and as a result the optimization path will often zig zag and occasionally spiral out of control. It has been shown that with enough control over the learning rate, sgd and batch gradient descent often achieve the same results, but SGD does it much faster in the context of machine learning. A commonly used variant of gradient descent that sits between full and stochastic gradient descent is mini-batch gradient descent where the gradient and loss function are calculated over a randomly chosen fixed size batch of training examples.\n",
    "\n",
    "Implement a version of stochastic gradient descent below. Since we are not actually using a dataset or even a data distribution to generate our \"loss\" manifold that we are trying to optimize over, you should simulate the effect of approximation using gaussian noise on the gradients. Feel free to use the gauss function imported below for the same."
   ]
  },
  {
   "cell_type": "code",
   "execution_count": 5,
   "metadata": {
    "id": "609qkBlXUs2P"
   },
   "outputs": [],
   "source": [
    "from random import gauss\n",
    "\n",
    "def stochastic_gradient_descent(x, y, dx, dy, hparams):\n",
    "    '''\n",
    "    x: value of x before update\n",
    "    y: value of y before update\n",
    "    dx: derivative wrt x\n",
    "    dy: derivative wrt y\n",
    "    hparams must contain alpha\n",
    "\n",
    "    # TODO\n",
    "\n",
    "    Implement the update rule and return the new value of x, y after the update\n",
    "    '''\n",
    "    \n",
    "    alpha = hparams['alpha']\n",
    "    \n",
    "    #CODE HERE\n",
    "    \n",
    "    return x, y"
   ]
  },
  {
   "cell_type": "markdown",
   "metadata": {
    "id": "WTxhYShxUs2P"
   },
   "source": [
    "## Stochastic Gradient Descent and Momentum"
   ]
  },
  {
   "cell_type": "markdown",
   "metadata": {
    "id": "iClJpbypUs2P"
   },
   "source": [
    "$$ \\nu_t = \\gamma\\nu_{t-1} + \\alpha \\nabla_{\\theta}\\mathcal{L}(\\theta; x^i, y^i) $$\n",
    "$$ \\theta = \\theta - \\nu_t $$\n",
    "\n",
    "Stochastic Gradient Descent suffers very heavily if the loss function changes very quickly in one direction and slowly in another direction (eg. taco shell function) In this case the direction of the gradient does not align with the direction toward the minimum and a zig zag motion is direction with slower gradients. This is the case where the Hessian of the loss function wrt parameters has a high condition number, aka the eigenvalues of the representative matrix have a high ratio between the highest and the lowest eigenvalue. \n",
    "\n",
    "The use of the word momentum is a metaphor in this context, as such a method allows the navigation of shallow local optima or the navigation of ravines using the build-up of gradients from the navigation. The idea is that we maintain what is a 'velocity' term $\\nu$ at each timestep that keeps track of how much gradient has so far been encountered. Hence this value builds up in each direction and even in cases when gradients received in training are poor (eg. around saddle points, or local minima), the algorithm is able to escape such points (much like a ball rolling down a hill). The term for gamma, which is a hyperparameter, can be thought of as friction for the build-up of this velocity, as it decides how much of the previous velocity to count at a certain timestep. Even in the case of a ravine, the zig-zag motion of stochastic gradient descent would reduce as the buildup term in one direction would carry us smoothly through the low-gradient sensitive dimension. The momentum vectors also help cancel/smooth some of the noise that results from approximating gradients using a single data point, aka, the stochastic way.\n",
    "\n",
    "This method has its own flaws: it might settle in extremely deep minima. Such minima are not desirable even as global minima, as on a data manifold they may be \"too good\" to be true; representative of a kind of overfit. An example test function for this issue is the **Easom function**. The good news is that with some tuning of **gamma** more often that never SGD + momentum will settle in shallow, wide minima."
   ]
  },
  {
   "cell_type": "code",
   "execution_count": null,
   "metadata": {
    "colab": {
     "base_uri": "https://localhost:8080/",
     "height": 489
    },
    "executionInfo": {
     "elapsed": 682,
     "status": "ok",
     "timestamp": 1621573468866,
     "user": {
      "displayName": "Ishaan Preetam Chandratreya",
      "photoUrl": "https://lh3.googleusercontent.com/a-/AOh14GitY9ZPkHr783-fYDTO3yZvHLoeBroKqe3tN9RliA=s64",
      "userId": "13279136665094214597"
     },
     "user_tz": 240
    },
    "id": "et-Dz4PoUs2Q",
    "outputId": "87561567-ab02-4162-8c5a-9d25bbb34af7"
   },
   "outputs": [],
   "source": [
    "def easom():\n",
    "    '''\n",
    "    TODO\n",
    "\n",
    "    Implement the easom function as defined above.\n",
    "\n",
    "    Add comment here explaining why it is a reasonable test function.\n",
    "    '''\n",
    "    \n",
    "    def f_easom(x, y):\n",
    "        #CODE HERE\n",
    "\n",
    "        return outåå\n",
    "        \n",
    "    def opt_easom():\n",
    "        \n",
    "        return np.array([np.pi, np.pi])\n",
    "    \n",
    "    \n",
    "    return f_easom, opt_easom\n",
    "        \n",
    "plot_func(easom)"
   ]
  },
  {
   "cell_type": "markdown",
   "metadata": {
    "id": "Ij58vR1kUs2R"
   },
   "source": [
    "Implement your version of stochastic gradient descent with momentum below."
   ]
  },
  {
   "cell_type": "code",
   "execution_count": 7,
   "metadata": {
    "id": "wGVIyMb3Us2R"
   },
   "outputs": [],
   "source": [
    "def momentum(x, y, dx, dy, v_x, v_y, hparams):\n",
    "    '''\n",
    "    x: value of x before update\n",
    "    y: value of y before update\n",
    "    dx: derivative wrt x\n",
    "    dy: derivative wrt y\n",
    "    v_x: velocity parameter wrt x\n",
    "    v_y: velocity parameter wrt y\n",
    "    hparams must contain alpha and gamma\n",
    "\n",
    "    # TODO\n",
    "\n",
    "    Implement the update rule and return the new value of x, y, v_x, v_y after \n",
    "    the update. Don't forget to add the gaussian noise for the stochasticity\n",
    "    '''\n",
    "    \n",
    "    alpha = hparams['alpha']\n",
    "    gamma = hparams['gamma']\n",
    "    \n",
    "    #CODE HERE\n",
    "    \n",
    "    return x, y, v_x, v_y"
   ]
  },
  {
   "cell_type": "markdown",
   "metadata": {
    "id": "cJ3rFNFLUs2S"
   },
   "source": [
    "## Nesterov Momentum"
   ]
  },
  {
   "cell_type": "markdown",
   "metadata": {
    "id": "WXwP47ABUs2S"
   },
   "source": [
    "$$ \\nu_t = \\gamma\\nu_{t-1} + \\alpha \\nabla_{\\theta}\\mathcal{L}(\\theta - \\gamma\\nu_{t-1}) $$\n",
    "$$ \\theta = \\theta - \\nu_t $$\n",
    "\n",
    "A problem with momentum is that there is no way to control the slow-down of the optimizer even as we approach a minima- the optimizer isn't smart enough to decide whether or not it needs to continue up a slope once it has reached a (local or global) minima. A version of momentum, called Nesterov momentum helps deal with this problem by first changing parameters in the direction of the accumulated gradient, estimating the destination gradient and then making an update in that direction.\n",
    "\n",
    "You do not have to implement nesterov updates."
   ]
  },
  {
   "cell_type": "markdown",
   "metadata": {
    "id": "OvOpNCWpUs2S"
   },
   "source": [
    "## AdaGrad\n",
    "\n",
    "Adagrad is another approach toward solving some of the same problems that momentum attempts to solve. However, it does more by giving the optimizer the ability to adapt updates for individual parameters depending on their importance. It adapts its learning rate to make higher updates (higher learning rate) for dimensions/features with higher values and lower updates (low learning rate) for dimensions/features with lower values."
   ]
  },
  {
   "cell_type": "markdown",
   "metadata": {
    "id": "t5FHIifFUs2T"
   },
   "source": [
    "$$ G_{i, i}^{t+1} = G_{i, i}^{t} + (\\frac{\\delta\\mathcal{L}(\\theta)}{\\delta\\theta_i})^2 $$\n",
    "$$ \\theta_{t,i} = \\theta_{t-1, i} - \\frac{\\alpha}{\\sqrt{G_{i,i} + \\epsilon}}\\nabla_{\\theta}\\mathcal{L}(\\theta_{t, i}) $$\n",
    "\n",
    "Here $G$ starts off as a 0 matrix and builds up squared gradients for each feature/dimension which is later used to scale the value for the parameter updates. $\\epsilon$ is generally a very small number to ensure that division by zero does not occur in case the initialization point provides no gradient. The biggest advantage of adagrad is that it takes away the need to manually tune the learning rate as is required with SGD, and provides feature-tuned learning rates. However, because of the way adagrad adjusts learning rates it sometimes tends to work well only with convex problems, as with non-convex problems in runs into issues with how to overshooting local minima/saddle points as it slows down rapidly due to accumulating squared gradients. It also provides really slow initial updates if the gradients at the initialization point are really high.\n",
    "\n",
    "Implement your variant of Adagrad below.\n",
    "\n"
   ]
  },
  {
   "cell_type": "code",
   "execution_count": 8,
   "metadata": {
    "id": "v8hcigpmUs2T"
   },
   "outputs": [],
   "source": [
    "def adagrad(x, y, dx, dy, v_x, v_y, hparams):\n",
    "    '''\n",
    "    x: value of x before update\n",
    "    y: value of y before update\n",
    "    dx: derivative wrt x\n",
    "    dy: derivative wrt y\n",
    "    v_x: velocity parameter wrt x\n",
    "    v_y: velocity parameter wrt y\n",
    "    hparams must contain eps and alpha\n",
    "\n",
    "    # TODO\n",
    "\n",
    "    Implement the update rule and return the new value of x, y, v_x, v_y after \n",
    "    the update. Don't forget to add the gaussian noise for the stochasticity.\n",
    "    '''\n",
    "    \n",
    "    eps = hparams['eps']\n",
    "    alpha = hparams['alpha']\n",
    "    \n",
    "    #CODE HERE\n",
    "    \n",
    "    return x, y, v_x, v_y"
   ]
  },
  {
   "cell_type": "markdown",
   "metadata": {
    "id": "_IyhnvOfUs2T"
   },
   "source": [
    "**RMSProp** and **AdaDelta** are two different algorithms that combat the aggressive learning rate reduction that comes with AdaGrad."
   ]
  },
  {
   "cell_type": "markdown",
   "metadata": {
    "id": "SCRLHvWKUs2U"
   },
   "source": [
    "## Adaptive Momentum Estimation\n",
    "\n",
    "This is the **best of all worlds** update algorithm. The second line (f) accumulated gradients much like momentum, while the third line (s) accumulates gradient squared for adjusting the learning rates like AdaGrad. These have to be adjusted in lines 3 and 4, because they are initialized to 0 at the beginning of optimization and since f is in the numerator of the final update we cannot afford to multiply by a really small number, neither can we afford to divide by a really small number. $\\beta_1$ and $\\beta_2$ must be less than 1 and are typically initialized high values such as 0.9 or 0.99. Yhe unbiasing operations on line 4 and 5 above help bring up the values of f and s early in training. \n",
    "    "
   ]
  },
  {
   "cell_type": "markdown",
   "metadata": {
    "id": "P76TRRb-Us2U"
   },
   "source": [
    "$$ g_{t, i} = \\nabla_{\\theta}\\mathcal{L}(\\theta_{t, i}) $$\n",
    "$$ f_{t, i} = \\beta_1 f_{t-1, i} + (1-\\beta_1) g_{t, i} $$ \n",
    "\n",
    "$$ s_{t, i} = \\beta_2 s_{t-1, i} + (1-\\beta_2) g_{t, i}^2 $$\n",
    "$$ \\hat{f_{t, i}} = \\frac{f_{t, i}}{1 - \\beta_1^t}$$\n",
    "$$ \\hat{s_{t, i}} = \\frac{s_{t, i}}{1 - \\beta_2^t}$$\n",
    "$$ \\theta_{t+1,i} = \\theta_{t, i} - \\frac{\\alpha\\hat{f_{t, i}}}{\\sqrt{\\hat{s_{t, i}} + \\epsilon}}$$\n",
    "\n",
    "Implement your function for adam below. Follow the comments closely for interpretation of inputs and outputs."
   ]
  },
  {
   "cell_type": "code",
   "execution_count": 9,
   "metadata": {
    "id": "kXBx-ZoRUs2U"
   },
   "outputs": [],
   "source": [
    "def adam(x, y, dx, dy, f_x, f_y, s_x, s_y, i, hparams):\n",
    "    '''\n",
    "    x: value of x before update\n",
    "    y: value of y before update\n",
    "    dx: derivative wrt x\n",
    "    dy: derivative wrt y\n",
    "    f_x, f_y: first order gradient accumulators\n",
    "    s_x, s_y: second order gradient accumulators\n",
    "    i: number of iteration\n",
    "    hparams must contain alpha, eps, beta_1 and beta_2\n",
    "\n",
    "    # TODO\n",
    "\n",
    "    Implement the update rule and return the new value of x, y, f_x, f_y, s_x, \n",
    "    s_y, after the update. Don't forget to add the gaussian noise for \n",
    "    the stochasticity.\n",
    "    '''\n",
    "    \n",
    "    eps = hparams['eps']\n",
    "    alpha = hparams['alpha']\n",
    "    beta_1 = hparams['beta_1']\n",
    "    beta_2 = hparams['beta_2']\n",
    "    \n",
    "    #CODE HERE\n",
    "    \n",
    "    return x, y, f_x, f_y, s_x, s_y    "
   ]
  },
  {
   "cell_type": "markdown",
   "metadata": {
    "id": "GwFypBmLUs2V"
   },
   "source": [
    "Study in detail the class Optimizer that has been implemented below, because you will be using it to study the effect of key hyperparameters on the optimization process, and the difference that the bells and whistles on Gradient Descent can make. The **fit** function calls the methods you have implemented above depending on how you initialize the class."
   ]
  },
  {
   "cell_type": "code",
   "execution_count": 10,
   "metadata": {
    "id": "LKtb-vX8Us2V"
   },
   "outputs": [],
   "source": [
    "from random import seed\n",
    "import math\n",
    "\n",
    "seed(1)\n",
    "\n",
    "class Optimizer:\n",
    "    \n",
    "    def __init__(self, x_init, y_init, method, func, hparams):\n",
    "        \n",
    "        '''\n",
    "        x_init: Initialization x point\n",
    "        y_init: Initialization y point\n",
    "        method: adam, adagrad, sgrad, ... check the fit function below\n",
    "        func: function to optimize [mult, easom, monkey, bowl, matyas, ...]\n",
    "        hparams: alpha, gamma, eps, beta, beta_1, beta_2\n",
    "        '''\n",
    "        \n",
    "        f, optima = func()\n",
    "        \n",
    "        self.x = x_init\n",
    "        self.y = y_init\n",
    "        self.hparams = hparams\n",
    "        self.first = True\n",
    "        self.iter = 0\n",
    "        self.x_list = []\n",
    "        self.y_list = []\n",
    "        \n",
    "        cp = optima()\n",
    "        self.cp_x = np.asscalar(np.array([0]))\n",
    "        self.cp_y = np.asscalar(np.array([1]))\n",
    "        \n",
    "        self.method = method\n",
    "        self.f = f\n",
    "        self.f_gradx = grad(f, 0)\n",
    "        self.f_grady = grad(f, 1)\n",
    "        self.count = 0\n",
    "        \n",
    "    def distance(self, x, y):\n",
    "        '''\n",
    "        L2 Norm\n",
    "        '''\n",
    "        \n",
    "        return math.sqrt((x-self.cp_x)**2 + (y-self.cp_y)**2)\n",
    "        \n",
    "    def cgrad(self, x, y):\n",
    "        '''\n",
    "        Uses autograd\n",
    "        '''\n",
    "        \n",
    "        return self.f_gradx(x, y), self.f_grady(x, y)\n",
    "        \n",
    "    def fit(self, epochs):\n",
    "\n",
    "        '''\n",
    "        Epochs: max number of updates to be made\n",
    "        '''\n",
    "\n",
    "        \n",
    "        self.x_list = []\n",
    "        self.y_list = []\n",
    "        self.z_list = []\n",
    "        \n",
    "        if self.method == 'grad':\n",
    "            \n",
    "            '''\n",
    "            USES\n",
    "            alpha: learning rate'\n",
    "            '''\n",
    "            \n",
    "            for i in range(epochs):\n",
    "                \n",
    "                self.x_list.append(self.x)\n",
    "                self.y_list.append(self.y)\n",
    "                self.z_list.append(self.f(self.x, self.y))\n",
    "                \n",
    "                dx, dy = self.cgrad(self.x, self.y)\n",
    "                \n",
    "                self.x, self.y = gradient_descent(self.x, self.y, dx, dy, self.hparams)\n",
    "                \n",
    "                if (self.distance(self.x, self.y) < 1 and self.first):\n",
    "                    self.iter = i\n",
    "                    self.first = False\n",
    "                    \n",
    "                \n",
    "        if self.method == 'sgrad':\n",
    "            \n",
    "            '''\n",
    "            USES\n",
    "            alpha: learning rate\n",
    "            '''\n",
    "            \n",
    "            for i in range(epochs):\n",
    "\n",
    "                self.x_list.append(self.x)\n",
    "                self.y_list.append(self.y)\n",
    "                self.z_list.append(self.f(self.x, self.y))\n",
    "                \n",
    "                dx, dy = self.cgrad(self.x, self.y)\n",
    "                \n",
    "                self.x, self.y = stochastic_gradient_descent(self.x, self.y, dx, dy, self.hparams)\n",
    "                \n",
    "                if (self.distance(self.x, self.y) < 1 and self.first):\n",
    "                    self.iter = i\n",
    "                    self.first = False\n",
    "        \n",
    "                \n",
    "                \n",
    "        if self.method == 'grad_momentum':\n",
    "            \n",
    "            '''\n",
    "            USES\n",
    "            alpha: learning rate\n",
    "            gamma: momentum factor\n",
    "            '''\n",
    "            \n",
    "            v_x, v_y = 0., 0.\n",
    "            for i in range(epochs):\n",
    "                \n",
    "                self.x_list.append(self.x)\n",
    "                self.y_list.append(self.y)\n",
    "                self.z_list.append(self.f(self.x, self.y))\n",
    "                \n",
    "                dx, dy = self.cgrad(self.x, self.y)\n",
    "                \n",
    "                self.x, self.y, v_x, v_y = momentum(self.x, self.y, dx, dy, v_x, v_y, self.hparams)\n",
    "                \n",
    "                if (self.distance(self.x, self.y) < 1 and self.first):\n",
    "                    self.iter = i\n",
    "                    self.first = False\n",
    "                \n",
    "        if self.method == 'adagrad':\n",
    "            \n",
    "            '''\n",
    "            USES\n",
    "            alpha: learning rate\n",
    "            eps: \n",
    "            '''\n",
    "            \n",
    "            v_x, v_y = 0., 0.\n",
    "            for i in range(epochs):\n",
    "                \n",
    "                self.x_list.append(self.x)\n",
    "                self.y_list.append(self.y)\n",
    "                self.z_list.append(self.f(self.x, self.y))\n",
    "                \n",
    "                dx, dy = self.cgrad(self.x, self.y)\n",
    "                \n",
    "                self.x, self.y, v_x, v_y = adagrad(self.x, self.y, dx, dy, v_x, v_y, self.hparams)\n",
    "                \n",
    "                if (self.distance(self.x, self.y) < 1 and self.first):\n",
    "                    self.iter = i\n",
    "                    self.first = False\n",
    "                    \n",
    "                \n",
    "        if self.method == 'adam':\n",
    "            \n",
    "            '''\n",
    "            USES\n",
    "            alpha: learning rate\n",
    "            beta_1:\n",
    "            beta_2:\n",
    "            eps: \n",
    "            '''\n",
    "            \n",
    "            f_x, f_y = 0., 0.\n",
    "            s_x, s_y = 0., 0.\n",
    "            for i in range(epochs):\n",
    "\n",
    "                self.x_list.append(self.x)\n",
    "                self.y_list.append(self.y)\n",
    "                self.z_list.append(self.f(self.x, self.y))\n",
    "                \n",
    "                dx, dy = self.cgrad(self.x, self.y)\n",
    "                \n",
    "                self.x, self.y, f_x, f_y, s_x, s_y = adam(self.x, self.y, dx, dy, f_x, f_y, s_x, s_y, i, self.hparams)\n",
    "                \n",
    "                if (self.distance(self.x, self.y) < 1 and self.first):\n",
    "                    self.iter = i\n",
    "                    self.first = False\n",
    "          "
   ]
  },
  {
   "cell_type": "markdown",
   "metadata": {
    "id": "i47wCEjSUs2W"
   },
   "source": [
    "The code at the bottom provides helper functions to help you visualize your results and play around with your optimizer implementations."
   ]
  },
  {
   "cell_type": "code",
   "execution_count": 11,
   "metadata": {
    "id": "XT2FC59xUs2X"
   },
   "outputs": [],
   "source": [
    "def animate(i):\n",
    "    '''Plotting helper'''\n",
    "    \n",
    "    i = int(i*(epochs/frames))\n",
    "    line1.set_data(optim.x_list[:i+1], optim.y_list[:i+1])\n",
    "    line1.set_3d_properties(optim.z_list[:i+1])\n",
    "    line2.set_data(optim.x_list[:i+1], optim.y_list[:i+1])\n",
    "    line2.set_3d_properties(np.zeros(i+1) -1)\n",
    "    title.set_text('Epoch: {: d}, Error: {:.4f}'.format(i, optim.z_list[i]))\n",
    "    \n",
    "    return line1, line2, title\n",
    "\n",
    "\n",
    "def plot_function(epochs, frames, func, xmin = -4.5, xmax= 4.5, ymin = -4.5, ymax = 4.5, step = 0.2, option = '3d'):\n",
    "\n",
    "    '''\n",
    "    Plot the optimization\n",
    "    epochs: number of optimization improvements\n",
    "    frames: number of displayed frames\n",
    "    func: function to plot. eg. mult, monkey, ....\n",
    "    xmin: Min value of x to be displayed\n",
    "    xmax: Max value of x to be displayed\n",
    "    ymin: Min value of y to be displayed\n",
    "    ymax: Max value of y to be displayed\n",
    "    step: Split between xmin and xmax, ymin and ymax\n",
    "    option: keep this option '3d'\n",
    "\n",
    "    '''    \n",
    "\n",
    "    x, y = np.meshgrid(np.arange(xmin, xmax + step, step), np.arange(ymin, ymax + step, step))\n",
    "    f, opt = func()\n",
    "    z = f(x, y)\n",
    "    cp = opt()\n",
    "    \n",
    "    optima = cp.reshape(-1, 1)\n",
    "    \n",
    "    if (option == '3d'):\n",
    "        \n",
    "        fig = plt.figure(figsize=(12,6), dpi = 100)\n",
    "        ax = fig.add_subplot(1,2,1,projection='3d')\n",
    "\n",
    "        ax.plot_surface(x, y, z,  rstride=5, cstride=5, alpha = 0.5, cmap=plt.cm.plasma)\n",
    "        cset = ax.contourf(x, y, z, 25, zdir='z', offset=-1, alpha=0.6, cmap=plt.cm.coolwarm)\n",
    "        out1 = f(*optima)\n",
    "        ax.plot(*optima, out1 , 'r*', markersize=10)\n",
    "\n",
    "        ax.set_xlabel('$x$')\n",
    "        ax.set_ylabel('$y$')\n",
    "        ax.set_zlabel('$z$')\n",
    "        \n",
    "        \n",
    "        i = 0\n",
    "\n",
    "        for i in range(epochs):\n",
    "            line1, = ax.plot(optim.x_list[:i+1], optim.y_list[:i+1], optim.z_list[:i+1], color ='black', marker = '.')\n",
    "\n",
    "            line2, = ax.plot(optim.x_list[:i+1], optim.y_list[:i+1], np.zeros(i+1)-1, color ='red', marker='.')\n",
    "            \n",
    "    \n",
    "    if (option == '2d'):\n",
    "        \n",
    "        fig = plt.figure(dpi = 100)\n",
    "        ax = plt.subplot(111)\n",
    "        \n",
    "        cset = ax.contourf(x, y, z, 25, zdir='z', offset=-1, alpha=0.6, cmap=plt.cm.bwr)\n",
    "        \n",
    "        dz_dx = egrad(f, argnum=0)(x, y)\n",
    "        dz_dy = egrad(f, argnum=1)(x, y)\n",
    "        ax.quiver(x, y, x- dz_dx, y-dz_dy, alpha = 0.5)\n",
    "        ax.plot(*optima, 'r*', markersize = 18)\n",
    "\n",
    "        ax.set_xlabel('$x$')\n",
    "        ax.set_ylabel('$y$')\n",
    "\n",
    "\n",
    "    ax.set_xlim((xmin, xmax))\n",
    "    ax.set_ylim((ymin, ymax))\n",
    "\n",
    "    plt.show"
   ]
  },
  {
   "cell_type": "code",
   "execution_count": null,
   "metadata": {
    "colab": {
     "base_uri": "https://localhost:8080/",
     "height": 489
    },
    "executionInfo": {
     "elapsed": 2023,
     "status": "ok",
     "timestamp": 1621573507095,
     "user": {
      "displayName": "Ishaan Preetam Chandratreya",
      "photoUrl": "https://lh3.googleusercontent.com/a-/AOh14GitY9ZPkHr783-fYDTO3yZvHLoeBroKqe3tN9RliA=s64",
      "userId": "13279136665094214597"
     },
     "user_tz": 240
    },
    "id": "hV3jT2vWUs2X",
    "outputId": "83680132-7165-4642-b619-a1f1c51b9132"
   },
   "outputs": [],
   "source": [
    "'''\n",
    "Test plot: Here, we plot optimization with adam on bowl function for 200 updates,\n",
    "initialized at (6., 6.).\n",
    "'''\n",
    "\n",
    "frames = 20\n",
    "epochs = 200\n",
    "\n",
    "func = bowl\n",
    "init_x, init_y = 6., 6.\n",
    "\n",
    "hparams = {'alpha': 0.1, 'eps': 1e-7, 'beta_1': 0.8, 'beta_2': 0.99}\n",
    "optim = Optimizer(init_x, init_y, 'adam', func, hparams)\n",
    "optim.fit(epochs)\n",
    "\n",
    "plot_function(epochs, frames, func)"
   ]
  },
  {
   "cell_type": "markdown",
   "metadata": {
    "id": "dJmOgDl7Us2Y"
   },
   "source": [
    "# Importance of learning rate\n",
    "\n",
    "Call the plotting function and Optimizer as shown above and make two plots to show how too high or too low of a learning rate could be a problem for stochastic gradient descent on the bowl function. Keep the number of iterations (epochs) constant across the two to demonstrate the effect. You are recommended to use the bowl function.\n"
   ]
  },
  {
   "cell_type": "code",
   "execution_count": null,
   "metadata": {
    "colab": {
     "base_uri": "https://localhost:8080/",
     "height": 489
    },
    "executionInfo": {
     "elapsed": 809,
     "status": "ok",
     "timestamp": 1621573516460,
     "user": {
      "displayName": "Ishaan Preetam Chandratreya",
      "photoUrl": "https://lh3.googleusercontent.com/a-/AOh14GitY9ZPkHr783-fYDTO3yZvHLoeBroKqe3tN9RliA=s64",
      "userId": "13279136665094214597"
     },
     "user_tz": 240
    },
    "id": "fCfanT7pUs2Y",
    "outputId": "0442db71-eb09-4a28-89ad-18cca89fdb23"
   },
   "outputs": [],
   "source": [
    "frames = 20\n",
    "epochs = 20\n",
    "\n",
    "'''\n",
    "TODO\n",
    "\n",
    "Make a plot to show what happens if the learning rate is too high with sgrad.\n",
    "\n",
    "Recommended hparams:\n",
    "\n",
    "initialization: (6., 6.)\n",
    "alpha: 2\n",
    "'''\n",
    "\n",
    "func = bowl\n",
    "#CODE HERE\n",
    "plot_function(epochs, frames, func)"
   ]
  },
  {
   "cell_type": "code",
   "execution_count": null,
   "metadata": {
    "colab": {
     "base_uri": "https://localhost:8080/",
     "height": 489
    },
    "executionInfo": {
     "elapsed": 734,
     "status": "ok",
     "timestamp": 1621573519147,
     "user": {
      "displayName": "Ishaan Preetam Chandratreya",
      "photoUrl": "https://lh3.googleusercontent.com/a-/AOh14GitY9ZPkHr783-fYDTO3yZvHLoeBroKqe3tN9RliA=s64",
      "userId": "13279136665094214597"
     },
     "user_tz": 240
    },
    "id": "NmbXhCsVUs2Z",
    "outputId": "8cfa8966-1815-438a-8e7b-aa31f1654c8f"
   },
   "outputs": [],
   "source": [
    "frames = 20\n",
    "epochs = 20\n",
    "\n",
    "'''\n",
    "TODO\n",
    "\n",
    "Make a plot to show what happens if the learning rate is too low with sgrad.\n",
    "\n",
    "Recommended hparams:\n",
    "\n",
    "initialization: (6., 6.)\n",
    "alpha: 0.01\n",
    "'''\n",
    "\n",
    "func = bowl\n",
    "#CODE HERE\n",
    "plot_function(epochs, frames, func)"
   ]
  },
  {
   "cell_type": "code",
   "execution_count": null,
   "metadata": {
    "colab": {
     "base_uri": "https://localhost:8080/",
     "height": 489
    },
    "executionInfo": {
     "elapsed": 6729,
     "status": "ok",
     "timestamp": 1621573529830,
     "user": {
      "displayName": "Ishaan Preetam Chandratreya",
      "photoUrl": "https://lh3.googleusercontent.com/a-/AOh14GitY9ZPkHr783-fYDTO3yZvHLoeBroKqe3tN9RliA=s64",
      "userId": "13279136665094214597"
     },
     "user_tz": 240
    },
    "id": "OBzxAmiHUs2Z",
    "outputId": "1c95af9f-f6ef-4eea-de2f-175a3d427d1b"
   },
   "outputs": [],
   "source": [
    "'''\n",
    "TODO\n",
    "\n",
    "Make a plot to show what happens if the learning rate is just right with sgrad.\n",
    "\n",
    "Recommended hparams:\n",
    "\n",
    "initialization: (6., 6.)\n",
    "alpha: 0.1\n",
    "'''\n",
    "\n",
    "frames = 20\n",
    "epochs = 20\n",
    "\n",
    "func = bowl\n",
    "#CODE HERE\n",
    "plot_function(epochs, frames, func)"
   ]
  },
  {
   "cell_type": "markdown",
   "metadata": {
    "id": "PvEKYqnQUs2a"
   },
   "source": [
    "# SGD and Matyas: momentum helps\n",
    "\n",
    "Make two plots to show how momentum possibly helps with navigating a taco-shell function like Matyas, where gradient is low in one direction and high in another direction. Keep all parameters except the type of optimizer constant. "
   ]
  },
  {
   "cell_type": "code",
   "execution_count": null,
   "metadata": {
    "colab": {
     "base_uri": "https://localhost:8080/",
     "height": 489
    },
    "executionInfo": {
     "elapsed": 835,
     "status": "ok",
     "timestamp": 1621573538551,
     "user": {
      "displayName": "Ishaan Preetam Chandratreya",
      "photoUrl": "https://lh3.googleusercontent.com/a-/AOh14GitY9ZPkHr783-fYDTO3yZvHLoeBroKqe3tN9RliA=s64",
      "userId": "13279136665094214597"
     },
     "user_tz": 240
    },
    "id": "ZaltTEyWUs2a",
    "outputId": "aef3478a-5c44-42f3-e0ce-c529b86d6e71"
   },
   "outputs": [],
   "source": [
    "frames = 20\n",
    "epochs = 20\n",
    "\n",
    "'''\n",
    "TODO\n",
    "\n",
    "Make a plot to show what happens if stochastic gradient descent is used on a \n",
    "function like this.\n",
    "\n",
    "Recommended hparams:\n",
    "\n",
    "initialization: (4., -4.)\n",
    "alpha: 0.01\n",
    "'''\n",
    "\n",
    "func = matyas\n",
    "#CODE HERE\n",
    "plot_function(epochs, frames, func)"
   ]
  },
  {
   "cell_type": "code",
   "execution_count": null,
   "metadata": {
    "colab": {
     "base_uri": "https://localhost:8080/",
     "height": 489
    },
    "executionInfo": {
     "elapsed": 758,
     "status": "ok",
     "timestamp": 1621573552794,
     "user": {
      "displayName": "Ishaan Preetam Chandratreya",
      "photoUrl": "https://lh3.googleusercontent.com/a-/AOh14GitY9ZPkHr783-fYDTO3yZvHLoeBroKqe3tN9RliA=s64",
      "userId": "13279136665094214597"
     },
     "user_tz": 240
    },
    "id": "tmB3hvWmUs2b",
    "outputId": "473d4131-cb69-42cf-df2e-2c8e35e4b474"
   },
   "outputs": [],
   "source": [
    "frames = 20\n",
    "epochs = 20\n",
    "\n",
    "'''\n",
    "TODO\n",
    "\n",
    "Make a plot to show what happens if stochastic gradient descent with momentum\n",
    "is used on a function like this.\n",
    "\n",
    "Recommended hparams:\n",
    "\n",
    "initialization: (4., -4.)\n",
    "alpha: 0.01\n",
    "gamma: 0.99\n",
    "'''\n",
    "\n",
    "func = matyas\n",
    "#CODE HERE\n",
    "plot_function(epochs, frames, func)"
   ]
  },
  {
   "cell_type": "markdown",
   "metadata": {
    "id": "qnU3WImrUs2b"
   },
   "source": [
    "# Exploring Saddle Points"
   ]
  },
  {
   "cell_type": "markdown",
   "metadata": {
    "id": "Li-Krx0tUs2b"
   },
   "source": [
    "Make three plots to show how SGD, momentum, and adagrad behave on the monkey function. A good optimization algorithm will move past the flat region and continue its trajectory downward. Do not change the learning rate as this has been artificially reduced to make the distinction clear on this problem. Do you notice the observations made in the text above?"
   ]
  },
  {
   "cell_type": "code",
   "execution_count": null,
   "metadata": {
    "colab": {
     "base_uri": "https://localhost:8080/",
     "height": 489
    },
    "executionInfo": {
     "elapsed": 734,
     "status": "ok",
     "timestamp": 1621573562652,
     "user": {
      "displayName": "Ishaan Preetam Chandratreya",
      "photoUrl": "https://lh3.googleusercontent.com/a-/AOh14GitY9ZPkHr783-fYDTO3yZvHLoeBroKqe3tN9RliA=s64",
      "userId": "13279136665094214597"
     },
     "user_tz": 240
    },
    "id": "Y6VHeFkFUs2c",
    "outputId": "41640558-a683-49bb-f846-d3512fce40a4"
   },
   "outputs": [],
   "source": [
    "frames = 20\n",
    "epochs = 20\n",
    "\n",
    "'''\n",
    "TODO\n",
    "\n",
    "Make a plot to show what happens if stochastic gradient descent is used on a \n",
    "function like this.\n",
    "\n",
    "Recommended hparams:\n",
    "\n",
    "initialization: (4., 4.)\n",
    "alpha: 0.01\n",
    "'''\n",
    "\n",
    "func = monkey\n",
    "#CODE HERE\n",
    "plot_function(epochs, frames, func)"
   ]
  },
  {
   "cell_type": "code",
   "execution_count": null,
   "metadata": {
    "colab": {
     "base_uri": "https://localhost:8080/",
     "height": 489
    },
    "executionInfo": {
     "elapsed": 703,
     "status": "ok",
     "timestamp": 1621573567061,
     "user": {
      "displayName": "Ishaan Preetam Chandratreya",
      "photoUrl": "https://lh3.googleusercontent.com/a-/AOh14GitY9ZPkHr783-fYDTO3yZvHLoeBroKqe3tN9RliA=s64",
      "userId": "13279136665094214597"
     },
     "user_tz": 240
    },
    "id": "ZEo5VtJYUs2c",
    "outputId": "d459b1f9-a5e3-4d9a-85ed-6f24bc946f6c"
   },
   "outputs": [],
   "source": [
    "frames = 20\n",
    "epochs = 5\n",
    "\n",
    "'''\n",
    "TODO\n",
    "\n",
    "Make a plot to show what happens if stochastic gradient descent with momentum\n",
    "is used on a function like this.\n",
    "\n",
    "Recommended hparams:\n",
    "\n",
    "initialization: (4., 4.)\n",
    "alpha: 0.01\n",
    "gamma: 0.99\n",
    "'''\n",
    "\n",
    "func = monkey\n",
    "#CODE HERE\n",
    "plot_function(epochs, frames, func)"
   ]
  },
  {
   "cell_type": "code",
   "execution_count": null,
   "metadata": {
    "colab": {
     "base_uri": "https://localhost:8080/",
     "height": 489
    },
    "executionInfo": {
     "elapsed": 10841,
     "status": "ok",
     "timestamp": 1621573579975,
     "user": {
      "displayName": "Ishaan Preetam Chandratreya",
      "photoUrl": "https://lh3.googleusercontent.com/a-/AOh14GitY9ZPkHr783-fYDTO3yZvHLoeBroKqe3tN9RliA=s64",
      "userId": "13279136665094214597"
     },
     "user_tz": 240
    },
    "id": "nF5x_CAfUs2d",
    "outputId": "3e76da37-ef9e-4d35-aa25-c3a26616a631"
   },
   "outputs": [],
   "source": [
    "frames = 20\n",
    "epochs = 1000\n",
    "\n",
    "'''\n",
    "TODO\n",
    "\n",
    "Make a plot to show what happens if adagrad\n",
    "is used on a function like this.\n",
    "\n",
    "Recommended hparams:\n",
    "\n",
    "initialization: (4., 4.)\n",
    "alpha: 0.3\n",
    "eps: 1e-7\n",
    "'''\n",
    "\n",
    "func = monkey\n",
    "#CODE HERE\n",
    "plot_function(epochs, frames, func)"
   ]
  },
  {
   "cell_type": "markdown",
   "metadata": {
    "id": "nBKExKCTUs2d"
   },
   "source": [
    "# Escaping Local Minima \n",
    "\n",
    "Make 3 or more plots (with atleast one plot using ADAM) to show how the different functions escape the local minima on the **mult** function. We will initialize at (0.5, 0.5)."
   ]
  },
  {
   "cell_type": "code",
   "execution_count": null,
   "metadata": {
    "colab": {
     "base_uri": "https://localhost:8080/",
     "height": 489
    },
    "executionInfo": {
     "elapsed": 820,
     "status": "ok",
     "timestamp": 1621573614810,
     "user": {
      "displayName": "Ishaan Preetam Chandratreya",
      "photoUrl": "https://lh3.googleusercontent.com/a-/AOh14GitY9ZPkHr783-fYDTO3yZvHLoeBroKqe3tN9RliA=s64",
      "userId": "13279136665094214597"
     },
     "user_tz": 240
    },
    "id": "is5cS5K6Us2f",
    "outputId": "9fd50338-8f09-46d3-ac93-c35ab018bc02"
   },
   "outputs": [],
   "source": [
    "frames = 20\n",
    "epochs = 20\n",
    "\n",
    "'''\n",
    "TODO\n",
    "\n",
    "Make a plot to show what happens if ADAM\n",
    "is used on a function like this.\n",
    "\n",
    "Recommended hparams:\n",
    "\n",
    "initialization: (.8, .8)\n",
    "alpha: 0.7\n",
    "eps: 1e-7\n",
    "beta_1: 0.99\n",
    "beta_2: 0.9\n",
    "'''\n",
    "\n",
    "\n",
    "func = mult\n",
    "#CODE HERE\n",
    "plot_function(epochs, frames, func)"
   ]
  },
  {
   "cell_type": "code",
   "execution_count": null,
   "metadata": {
    "colab": {
     "base_uri": "https://localhost:8080/",
     "height": 489
    },
    "executionInfo": {
     "elapsed": 849,
     "status": "ok",
     "timestamp": 1621573600887,
     "user": {
      "displayName": "Ishaan Preetam Chandratreya",
      "photoUrl": "https://lh3.googleusercontent.com/a-/AOh14GitY9ZPkHr783-fYDTO3yZvHLoeBroKqe3tN9RliA=s64",
      "userId": "13279136665094214597"
     },
     "user_tz": 240
    },
    "id": "qj-dPb_RUs2g",
    "outputId": "f972cffe-5661-4322-a1aa-c5b6f4e7f8ee"
   },
   "outputs": [],
   "source": [
    "frames = 20\n",
    "epochs = 20\n",
    "\n",
    "'''\n",
    "TODO\n",
    "\n",
    "Make a plot to show what happens if adagrad\n",
    "is used on a function like this.\n",
    "\n",
    "Recommended hparams:\n",
    "\n",
    "initialization: (.8, .8)\n",
    "alpha: 0.7\n",
    "eps: 1e-7\n",
    "'''\n",
    "\n",
    "func = mult\n",
    "#CODE HERE\n",
    "plot_function(epochs, frames, func)"
   ]
  },
  {
   "cell_type": "code",
   "execution_count": null,
   "metadata": {
    "colab": {
     "base_uri": "https://localhost:8080/",
     "height": 489
    },
    "executionInfo": {
     "elapsed": 739,
     "status": "ok",
     "timestamp": 1621573650486,
     "user": {
      "displayName": "Ishaan Preetam Chandratreya",
      "photoUrl": "https://lh3.googleusercontent.com/a-/AOh14GitY9ZPkHr783-fYDTO3yZvHLoeBroKqe3tN9RliA=s64",
      "userId": "13279136665094214597"
     },
     "user_tz": 240
    },
    "id": "zPQXkby8Us2g",
    "outputId": "fc5d355c-64f8-471f-fdb6-c3cba0a38763"
   },
   "outputs": [],
   "source": [
    "frames = 20\n",
    "epochs = 20\n",
    "\n",
    "\n",
    "'''\n",
    "TODO\n",
    "\n",
    "Make a plot to show what happens if stochastic gradient descent with momentum\n",
    "is used on a function like this.\n",
    "\n",
    "Recommended hparams:\n",
    "\n",
    "initialization: (.8, .8)\n",
    "alpha: 0.7\n",
    "gamma: 0.99\n",
    "'''\n",
    "\n",
    "\n",
    "func = mult\n",
    "#CODE HERE\n",
    "plot_function(epochs, frames, func)"
   ]
  },
  {
   "cell_type": "code",
   "execution_count": null,
   "metadata": {
    "colab": {
     "base_uri": "https://localhost:8080/",
     "height": 489
    },
    "executionInfo": {
     "elapsed": 921,
     "status": "ok",
     "timestamp": 1621573643761,
     "user": {
      "displayName": "Ishaan Preetam Chandratreya",
      "photoUrl": "https://lh3.googleusercontent.com/a-/AOh14GitY9ZPkHr783-fYDTO3yZvHLoeBroKqe3tN9RliA=s64",
      "userId": "13279136665094214597"
     },
     "user_tz": 240
    },
    "id": "1V3x3YosUs2h",
    "outputId": "866a803b-edd4-4756-8f98-a19722502b3f"
   },
   "outputs": [],
   "source": [
    "frames = 20\n",
    "epochs = 20\n",
    "\n",
    "\n",
    "'''\n",
    "TODO\n",
    "\n",
    "Make a plot to show what happens if stochastic gradient descent with momentum\n",
    "is used on a function like this.\n",
    "\n",
    "Recommended hparams:\n",
    "\n",
    "initialization: (.8, .8)\n",
    "alpha: 0.7\n",
    "'''\n",
    "\n",
    "func = mult\n",
    "#CODE HERE\n",
    "plot_function(epochs, frames, func)"
   ]
  },
  {
   "cell_type": "code",
   "execution_count": null,
   "metadata": {
    "id": "x1Yk5hPyUs2h"
   },
   "outputs": [],
   "source": []
  }
 ],
 "metadata": {
  "colab": {
   "name": "hw2.ipynb",
   "provenance": []
  },
  "kernelspec": {
   "display_name": "Python 3",
   "language": "python",
   "name": "python3"
  },
  "language_info": {
   "codemirror_mode": {
    "name": "ipython",
    "version": 3
   },
   "file_extension": ".py",
   "mimetype": "text/x-python",
   "name": "python",
   "nbconvert_exporter": "python",
   "pygments_lexer": "ipython3",
   "version": "3.8.8"
  }
 },
 "nbformat": 4,
 "nbformat_minor": 1
}
