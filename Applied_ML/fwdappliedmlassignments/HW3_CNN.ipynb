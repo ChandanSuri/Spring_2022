{
  "nbformat": 4,
  "nbformat_minor": 5,
  "metadata": {
    "kernelspec": {
      "display_name": "Python 3 (ipykernel)",
      "language": "python",
      "name": "python3"
    },
    "language_info": {
      "codemirror_mode": {
        "name": "ipython",
        "version": 3
      },
      "file_extension": ".py",
      "mimetype": "text/x-python",
      "name": "python",
      "nbconvert_exporter": "python",
      "pygments_lexer": "ipython3",
      "version": "3.8.12"
    },
    "colab": {
      "name": "HW3_CNN.ipynb",
      "provenance": [],
      "collapsed_sections": []
    },
    "accelerator": "GPU"
  },
  "cells": [
    {
      "cell_type": "markdown",
      "metadata": {
        "id": "d9bcdbd2-3401-41ad-a83f-830e9346e607"
      },
      "source": [
        "# Homework 3: Convolutional Neural Networks\n",
        "\n",
        "Due Wednesday 11/24 at 11:59 pm EST"
      ],
      "id": "d9bcdbd2-3401-41ad-a83f-830e9346e607"
    },
    {
      "cell_type": "markdown",
      "metadata": {
        "id": "8da8daa7-f0cf-47f8-bc5f-6eb13573891c"
      },
      "source": [
        "Download the dataset `cats-notcats` from github (given as a part of the assignment). This dataset has images of cats and images that are not cats (in separate folders). The task is to train a convolutional neural network (CNN) to build a classifier that can classify a new image as either `cat` or `not cat`"
      ],
      "id": "8da8daa7-f0cf-47f8-bc5f-6eb13573891c"
    },
    {
      "cell_type": "markdown",
      "metadata": {
        "id": "fafa37c4-c8fc-4697-9bbe-11539d710bf7"
      },
      "source": [
        "1. Load the dataset and create three stratified splits - train/validation/test in the ratio of 70/10/20. "
      ],
      "id": "fafa37c4-c8fc-4697-9bbe-11539d710bf7"
    },
    {
      "cell_type": "code",
      "metadata": {
        "colab": {
          "base_uri": "https://localhost:8080/"
        },
        "id": "SAYdsv0zeVsA",
        "outputId": "56e77f8b-ea37-410b-e912-47e866de7eb3"
      },
      "source": [
        "from google.colab import drive\n",
        "drive.mount('/content/drive')"
      ],
      "id": "SAYdsv0zeVsA",
      "execution_count": 1,
      "outputs": [
        {
          "output_type": "stream",
          "name": "stdout",
          "text": [
            "Mounted at /content/drive\n"
          ]
        }
      ]
    },
    {
      "cell_type": "code",
      "metadata": {
        "id": "44c960f9-2bf7-4187-8b98-a5646b2ef64a"
      },
      "source": [
        "#code here\n",
        "import matplotlib.pyplot as plt\n",
        "import seaborn as sns\n",
        "import keras\n",
        "from tensorflow.keras import models,layers\n",
        "from keras.layers import Dense, Conv2D , MaxPool2D , Flatten , Dropout \n",
        "from keras.models import Sequential\n",
        "from tensorflow.keras.preprocessing.image import ImageDataGenerator,load_img\n",
        "from sklearn.metrics import classification_report,confusion_matrix\n",
        "import tensorflow as tf\n",
        "from tensorflow.keras.optimizers import Adam\n",
        "from sklearn.model_selection import train_test_split\n",
        "import os\n",
        "import numpy as np\n",
        "import pandas as pd"
      ],
      "id": "44c960f9-2bf7-4187-8b98-a5646b2ef64a",
      "execution_count": 4,
      "outputs": []
    },
    {
      "cell_type": "markdown",
      "metadata": {
        "id": "mKi-P4K0mk1H"
      },
      "source": [
        "I will create a dataframe with the location of each image in a class as a row with the corresponding class."
      ],
      "id": "mKi-P4K0mk1H"
    },
    {
      "cell_type": "code",
      "metadata": {
        "id": "F0Tbq0sqlTcK"
      },
      "source": [
        "def dataframe_generator(label,target):\n",
        "    df=pd.DataFrame(columns=['PATH'])\n",
        "    for i in os.listdir('drive/MyDrive/cats-notcats/{}'.format(label)):\n",
        "        df=df.append({'PATH':'{}/{}'.format(label,i)},ignore_index=True)\n",
        "    df['Value']=target\n",
        "    return df"
      ],
      "id": "F0Tbq0sqlTcK",
      "execution_count": 5,
      "outputs": []
    },
    {
      "cell_type": "code",
      "metadata": {
        "id": "l3D4TEptcDwP"
      },
      "source": [
        "df_cats=dataframe_generator('cats',1)\n",
        "df_else=dataframe_generator('notcats',0)\n",
        "df=pd.concat([df_cats,df_else])"
      ],
      "id": "l3D4TEptcDwP",
      "execution_count": 6,
      "outputs": []
    },
    {
      "cell_type": "code",
      "metadata": {
        "id": "ArdnE81bp4vR"
      },
      "source": [
        "x_dev, x_test, y_dev, y_test = train_test_split(df['PATH'], df['Value'], test_size=0.2, \n",
        "                                                random_state=42,stratify=df['Value'])\n",
        "x_train, x_val, y_train, y_val = train_test_split(x_dev, y_dev, test_size=0.125,\n",
        "                                                  random_state=42,stratify=y_dev)\n",
        "def create_dataframe(x,y):\n",
        "  dataset = pd.DataFrame({'PATH': x, 'Value': y}, columns=['PATH', 'Value'])\n",
        "  return dataset\n",
        "\n",
        "train = create_dataframe(x_train, y_train)\n",
        "test = create_dataframe(x_test, y_test)\n",
        "val = create_dataframe(x_val, y_val)"
      ],
      "id": "ArdnE81bp4vR",
      "execution_count": 7,
      "outputs": []
    },
    {
      "cell_type": "code",
      "metadata": {
        "colab": {
          "base_uri": "https://localhost:8080/"
        },
        "id": "Ck0VN4TQ37Dp",
        "outputId": "c5b20f69-a81f-4470-f604-399b660776f9"
      },
      "source": [
        "datagen = ImageDataGenerator(rescale = 1./255)\n",
        "train_generator = datagen.flow_from_dataframe(dataframe=train, directory='/content/drive/My Drive/cats-notcats', \n",
        "                                              x_col=\"PATH\", y_col=\"Value\", has_ext=True, \n",
        "                                              class_mode=\"other\", shuffle=False,target_size=(200, 200), \n",
        "                                              batch_size=20)\n",
        "v_generator=datagen.flow_from_dataframe(dataframe=val, directory='/content/drive/My Drive/cats-notcats', \n",
        "                                              x_col=\"PATH\", y_col=\"Value\", has_ext=True, \n",
        "                                              class_mode=\"other\", shuffle=False, target_size=(200, 200), \n",
        "                                              batch_size=20)"
      ],
      "id": "Ck0VN4TQ37Dp",
      "execution_count": 8,
      "outputs": [
        {
          "output_type": "stream",
          "name": "stderr",
          "text": [
            "--- Logging error ---\n",
            "Traceback (most recent call last):\n",
            "  File \"/usr/lib/python3.7/logging/__init__.py\", line 1025, in emit\n",
            "    msg = self.format(record)\n",
            "  File \"/usr/lib/python3.7/logging/__init__.py\", line 869, in format\n",
            "    return fmt.format(record)\n",
            "  File \"/usr/lib/python3.7/logging/__init__.py\", line 608, in format\n",
            "    record.message = record.getMessage()\n",
            "  File \"/usr/lib/python3.7/logging/__init__.py\", line 369, in getMessage\n",
            "    msg = msg % self.args\n",
            "TypeError: not all arguments converted during string formatting\n",
            "Call stack:\n",
            "  File \"/usr/lib/python3.7/runpy.py\", line 193, in _run_module_as_main\n",
            "    \"__main__\", mod_spec)\n",
            "  File \"/usr/lib/python3.7/runpy.py\", line 85, in _run_code\n",
            "    exec(code, run_globals)\n",
            "  File \"/usr/local/lib/python3.7/dist-packages/ipykernel_launcher.py\", line 16, in <module>\n",
            "    app.launch_new_instance()\n",
            "  File \"/usr/local/lib/python3.7/dist-packages/traitlets/config/application.py\", line 846, in launch_instance\n",
            "    app.start()\n",
            "  File \"/usr/local/lib/python3.7/dist-packages/ipykernel/kernelapp.py\", line 499, in start\n",
            "    self.io_loop.start()\n",
            "  File \"/usr/local/lib/python3.7/dist-packages/tornado/platform/asyncio.py\", line 132, in start\n",
            "    self.asyncio_loop.run_forever()\n",
            "  File \"/usr/lib/python3.7/asyncio/base_events.py\", line 541, in run_forever\n",
            "    self._run_once()\n",
            "  File \"/usr/lib/python3.7/asyncio/base_events.py\", line 1786, in _run_once\n",
            "    handle._run()\n",
            "  File \"/usr/lib/python3.7/asyncio/events.py\", line 88, in _run\n",
            "    self._context.run(self._callback, *self._args)\n",
            "  File \"/usr/local/lib/python3.7/dist-packages/tornado/platform/asyncio.py\", line 122, in _handle_events\n",
            "    handler_func(fileobj, events)\n",
            "  File \"/usr/local/lib/python3.7/dist-packages/tornado/stack_context.py\", line 300, in null_wrapper\n",
            "    return fn(*args, **kwargs)\n",
            "  File \"/usr/local/lib/python3.7/dist-packages/zmq/eventloop/zmqstream.py\", line 452, in _handle_events\n",
            "    self._handle_recv()\n",
            "  File \"/usr/local/lib/python3.7/dist-packages/zmq/eventloop/zmqstream.py\", line 481, in _handle_recv\n",
            "    self._run_callback(callback, msg)\n",
            "  File \"/usr/local/lib/python3.7/dist-packages/zmq/eventloop/zmqstream.py\", line 431, in _run_callback\n",
            "    callback(*args, **kwargs)\n",
            "  File \"/usr/local/lib/python3.7/dist-packages/tornado/stack_context.py\", line 300, in null_wrapper\n",
            "    return fn(*args, **kwargs)\n",
            "  File \"/usr/local/lib/python3.7/dist-packages/ipykernel/kernelbase.py\", line 283, in dispatcher\n",
            "    return self.dispatch_shell(stream, msg)\n",
            "  File \"/usr/local/lib/python3.7/dist-packages/ipykernel/kernelbase.py\", line 233, in dispatch_shell\n",
            "    handler(stream, idents, msg)\n",
            "  File \"/usr/local/lib/python3.7/dist-packages/ipykernel/kernelbase.py\", line 399, in execute_request\n",
            "    user_expressions, allow_stdin)\n",
            "  File \"/usr/local/lib/python3.7/dist-packages/ipykernel/ipkernel.py\", line 208, in do_execute\n",
            "    res = shell.run_cell(code, store_history=store_history, silent=silent)\n",
            "  File \"/usr/local/lib/python3.7/dist-packages/ipykernel/zmqshell.py\", line 537, in run_cell\n",
            "    return super(ZMQInteractiveShell, self).run_cell(*args, **kwargs)\n",
            "  File \"/usr/local/lib/python3.7/dist-packages/IPython/core/interactiveshell.py\", line 2718, in run_cell\n",
            "    interactivity=interactivity, compiler=compiler, result=result)\n",
            "  File \"/usr/local/lib/python3.7/dist-packages/IPython/core/interactiveshell.py\", line 2822, in run_ast_nodes\n",
            "    if self.run_code(code, result):\n",
            "  File \"/usr/local/lib/python3.7/dist-packages/IPython/core/interactiveshell.py\", line 2882, in run_code\n",
            "    exec(code_obj, self.user_global_ns, self.user_ns)\n",
            "  File \"<ipython-input-8-209b9865e905>\", line 5, in <module>\n",
            "    batch_size=20)\n",
            "  File \"/usr/local/lib/python3.7/dist-packages/keras/preprocessing/image.py\", line 1100, in flow_from_dataframe\n",
            "    'to match the exact filenames in disk.', DeprecationWarning)\n",
            "  File \"/usr/local/lib/python3.7/dist-packages/tensorflow/python/platform/tf_logging.py\", line 178, in warning\n",
            "    get_logger().warning(msg, *args, **kwargs)\n",
            "Message: 'has_ext is deprecated, filenames in the dataframe have to match the exact filenames in disk.'\n",
            "Arguments: (<class 'DeprecationWarning'>,)\n",
            "--- Logging error ---\n",
            "Traceback (most recent call last):\n",
            "  File \"/usr/lib/python3.7/logging/__init__.py\", line 1025, in emit\n",
            "    msg = self.format(record)\n",
            "  File \"/usr/lib/python3.7/logging/__init__.py\", line 869, in format\n",
            "    return fmt.format(record)\n",
            "  File \"/usr/lib/python3.7/logging/__init__.py\", line 608, in format\n",
            "    record.message = record.getMessage()\n",
            "  File \"/usr/lib/python3.7/logging/__init__.py\", line 369, in getMessage\n",
            "    msg = msg % self.args\n",
            "TypeError: not all arguments converted during string formatting\n",
            "Call stack:\n",
            "  File \"/usr/lib/python3.7/runpy.py\", line 193, in _run_module_as_main\n",
            "    \"__main__\", mod_spec)\n",
            "  File \"/usr/lib/python3.7/runpy.py\", line 85, in _run_code\n",
            "    exec(code, run_globals)\n",
            "  File \"/usr/local/lib/python3.7/dist-packages/ipykernel_launcher.py\", line 16, in <module>\n",
            "    app.launch_new_instance()\n",
            "  File \"/usr/local/lib/python3.7/dist-packages/traitlets/config/application.py\", line 846, in launch_instance\n",
            "    app.start()\n",
            "  File \"/usr/local/lib/python3.7/dist-packages/ipykernel/kernelapp.py\", line 499, in start\n",
            "    self.io_loop.start()\n",
            "  File \"/usr/local/lib/python3.7/dist-packages/tornado/platform/asyncio.py\", line 132, in start\n",
            "    self.asyncio_loop.run_forever()\n",
            "  File \"/usr/lib/python3.7/asyncio/base_events.py\", line 541, in run_forever\n",
            "    self._run_once()\n",
            "  File \"/usr/lib/python3.7/asyncio/base_events.py\", line 1786, in _run_once\n",
            "    handle._run()\n",
            "  File \"/usr/lib/python3.7/asyncio/events.py\", line 88, in _run\n",
            "    self._context.run(self._callback, *self._args)\n",
            "  File \"/usr/local/lib/python3.7/dist-packages/tornado/platform/asyncio.py\", line 122, in _handle_events\n",
            "    handler_func(fileobj, events)\n",
            "  File \"/usr/local/lib/python3.7/dist-packages/tornado/stack_context.py\", line 300, in null_wrapper\n",
            "    return fn(*args, **kwargs)\n",
            "  File \"/usr/local/lib/python3.7/dist-packages/zmq/eventloop/zmqstream.py\", line 452, in _handle_events\n",
            "    self._handle_recv()\n",
            "  File \"/usr/local/lib/python3.7/dist-packages/zmq/eventloop/zmqstream.py\", line 481, in _handle_recv\n",
            "    self._run_callback(callback, msg)\n",
            "  File \"/usr/local/lib/python3.7/dist-packages/zmq/eventloop/zmqstream.py\", line 431, in _run_callback\n",
            "    callback(*args, **kwargs)\n",
            "  File \"/usr/local/lib/python3.7/dist-packages/tornado/stack_context.py\", line 300, in null_wrapper\n",
            "    return fn(*args, **kwargs)\n",
            "  File \"/usr/local/lib/python3.7/dist-packages/ipykernel/kernelbase.py\", line 283, in dispatcher\n",
            "    return self.dispatch_shell(stream, msg)\n",
            "  File \"/usr/local/lib/python3.7/dist-packages/ipykernel/kernelbase.py\", line 233, in dispatch_shell\n",
            "    handler(stream, idents, msg)\n",
            "  File \"/usr/local/lib/python3.7/dist-packages/ipykernel/kernelbase.py\", line 399, in execute_request\n",
            "    user_expressions, allow_stdin)\n",
            "  File \"/usr/local/lib/python3.7/dist-packages/ipykernel/ipkernel.py\", line 208, in do_execute\n",
            "    res = shell.run_cell(code, store_history=store_history, silent=silent)\n",
            "  File \"/usr/local/lib/python3.7/dist-packages/ipykernel/zmqshell.py\", line 537, in run_cell\n",
            "    return super(ZMQInteractiveShell, self).run_cell(*args, **kwargs)\n",
            "  File \"/usr/local/lib/python3.7/dist-packages/IPython/core/interactiveshell.py\", line 2718, in run_cell\n",
            "    interactivity=interactivity, compiler=compiler, result=result)\n",
            "  File \"/usr/local/lib/python3.7/dist-packages/IPython/core/interactiveshell.py\", line 2822, in run_ast_nodes\n",
            "    if self.run_code(code, result):\n",
            "  File \"/usr/local/lib/python3.7/dist-packages/IPython/core/interactiveshell.py\", line 2882, in run_code\n",
            "    exec(code_obj, self.user_global_ns, self.user_ns)\n",
            "  File \"<ipython-input-8-209b9865e905>\", line 5, in <module>\n",
            "    batch_size=20)\n",
            "  File \"/usr/local/lib/python3.7/dist-packages/keras/preprocessing/image.py\", line 1109, in flow_from_dataframe\n",
            "    '`class_mode` \"raw\".', DeprecationWarning)\n",
            "  File \"/usr/local/lib/python3.7/dist-packages/tensorflow/python/platform/tf_logging.py\", line 178, in warning\n",
            "    get_logger().warning(msg, *args, **kwargs)\n",
            "Message: '`class_mode` \"other\" is deprecated, please use `class_mode` \"raw\".'\n",
            "Arguments: (<class 'DeprecationWarning'>,)\n",
            "/usr/local/lib/python3.7/dist-packages/keras_preprocessing/image/dataframe_iterator.py:282: UserWarning: Found 1 invalid image filename(s) in x_col=\"PATH\". These filename(s) will be ignored.\n",
            "  .format(n_invalid, x_col)\n",
            "--- Logging error ---\n",
            "Traceback (most recent call last):\n",
            "  File \"/usr/lib/python3.7/logging/__init__.py\", line 1025, in emit\n",
            "    msg = self.format(record)\n",
            "  File \"/usr/lib/python3.7/logging/__init__.py\", line 869, in format\n",
            "    return fmt.format(record)\n",
            "  File \"/usr/lib/python3.7/logging/__init__.py\", line 608, in format\n",
            "    record.message = record.getMessage()\n",
            "  File \"/usr/lib/python3.7/logging/__init__.py\", line 369, in getMessage\n",
            "    msg = msg % self.args\n",
            "TypeError: not all arguments converted during string formatting\n",
            "Call stack:\n",
            "  File \"/usr/lib/python3.7/runpy.py\", line 193, in _run_module_as_main\n",
            "    \"__main__\", mod_spec)\n",
            "  File \"/usr/lib/python3.7/runpy.py\", line 85, in _run_code\n",
            "    exec(code, run_globals)\n",
            "  File \"/usr/local/lib/python3.7/dist-packages/ipykernel_launcher.py\", line 16, in <module>\n",
            "    app.launch_new_instance()\n",
            "  File \"/usr/local/lib/python3.7/dist-packages/traitlets/config/application.py\", line 846, in launch_instance\n",
            "    app.start()\n",
            "  File \"/usr/local/lib/python3.7/dist-packages/ipykernel/kernelapp.py\", line 499, in start\n",
            "    self.io_loop.start()\n",
            "  File \"/usr/local/lib/python3.7/dist-packages/tornado/platform/asyncio.py\", line 132, in start\n",
            "    self.asyncio_loop.run_forever()\n",
            "  File \"/usr/lib/python3.7/asyncio/base_events.py\", line 541, in run_forever\n",
            "    self._run_once()\n",
            "  File \"/usr/lib/python3.7/asyncio/base_events.py\", line 1786, in _run_once\n",
            "    handle._run()\n",
            "  File \"/usr/lib/python3.7/asyncio/events.py\", line 88, in _run\n",
            "    self._context.run(self._callback, *self._args)\n",
            "  File \"/usr/local/lib/python3.7/dist-packages/tornado/platform/asyncio.py\", line 122, in _handle_events\n",
            "    handler_func(fileobj, events)\n",
            "  File \"/usr/local/lib/python3.7/dist-packages/tornado/stack_context.py\", line 300, in null_wrapper\n",
            "    return fn(*args, **kwargs)\n",
            "  File \"/usr/local/lib/python3.7/dist-packages/zmq/eventloop/zmqstream.py\", line 452, in _handle_events\n",
            "    self._handle_recv()\n",
            "  File \"/usr/local/lib/python3.7/dist-packages/zmq/eventloop/zmqstream.py\", line 481, in _handle_recv\n",
            "    self._run_callback(callback, msg)\n",
            "  File \"/usr/local/lib/python3.7/dist-packages/zmq/eventloop/zmqstream.py\", line 431, in _run_callback\n",
            "    callback(*args, **kwargs)\n",
            "  File \"/usr/local/lib/python3.7/dist-packages/tornado/stack_context.py\", line 300, in null_wrapper\n",
            "    return fn(*args, **kwargs)\n",
            "  File \"/usr/local/lib/python3.7/dist-packages/ipykernel/kernelbase.py\", line 283, in dispatcher\n",
            "    return self.dispatch_shell(stream, msg)\n",
            "  File \"/usr/local/lib/python3.7/dist-packages/ipykernel/kernelbase.py\", line 233, in dispatch_shell\n",
            "    handler(stream, idents, msg)\n",
            "  File \"/usr/local/lib/python3.7/dist-packages/ipykernel/kernelbase.py\", line 399, in execute_request\n",
            "    user_expressions, allow_stdin)\n",
            "  File \"/usr/local/lib/python3.7/dist-packages/ipykernel/ipkernel.py\", line 208, in do_execute\n",
            "    res = shell.run_cell(code, store_history=store_history, silent=silent)\n",
            "  File \"/usr/local/lib/python3.7/dist-packages/ipykernel/zmqshell.py\", line 537, in run_cell\n",
            "    return super(ZMQInteractiveShell, self).run_cell(*args, **kwargs)\n",
            "  File \"/usr/local/lib/python3.7/dist-packages/IPython/core/interactiveshell.py\", line 2718, in run_cell\n",
            "    interactivity=interactivity, compiler=compiler, result=result)\n",
            "  File \"/usr/local/lib/python3.7/dist-packages/IPython/core/interactiveshell.py\", line 2822, in run_ast_nodes\n",
            "    if self.run_code(code, result):\n",
            "  File \"/usr/local/lib/python3.7/dist-packages/IPython/core/interactiveshell.py\", line 2882, in run_code\n",
            "    exec(code_obj, self.user_global_ns, self.user_ns)\n",
            "  File \"<ipython-input-8-209b9865e905>\", line 9, in <module>\n",
            "    batch_size=20)\n",
            "  File \"/usr/local/lib/python3.7/dist-packages/keras/preprocessing/image.py\", line 1100, in flow_from_dataframe\n",
            "    'to match the exact filenames in disk.', DeprecationWarning)\n",
            "  File \"/usr/local/lib/python3.7/dist-packages/tensorflow/python/platform/tf_logging.py\", line 178, in warning\n",
            "    get_logger().warning(msg, *args, **kwargs)\n",
            "Message: 'has_ext is deprecated, filenames in the dataframe have to match the exact filenames in disk.'\n",
            "Arguments: (<class 'DeprecationWarning'>,)\n",
            "--- Logging error ---\n",
            "Traceback (most recent call last):\n",
            "  File \"/usr/lib/python3.7/logging/__init__.py\", line 1025, in emit\n",
            "    msg = self.format(record)\n",
            "  File \"/usr/lib/python3.7/logging/__init__.py\", line 869, in format\n",
            "    return fmt.format(record)\n",
            "  File \"/usr/lib/python3.7/logging/__init__.py\", line 608, in format\n",
            "    record.message = record.getMessage()\n",
            "  File \"/usr/lib/python3.7/logging/__init__.py\", line 369, in getMessage\n",
            "    msg = msg % self.args\n",
            "TypeError: not all arguments converted during string formatting\n",
            "Call stack:\n",
            "  File \"/usr/lib/python3.7/runpy.py\", line 193, in _run_module_as_main\n",
            "    \"__main__\", mod_spec)\n",
            "  File \"/usr/lib/python3.7/runpy.py\", line 85, in _run_code\n",
            "    exec(code, run_globals)\n",
            "  File \"/usr/local/lib/python3.7/dist-packages/ipykernel_launcher.py\", line 16, in <module>\n",
            "    app.launch_new_instance()\n",
            "  File \"/usr/local/lib/python3.7/dist-packages/traitlets/config/application.py\", line 846, in launch_instance\n",
            "    app.start()\n",
            "  File \"/usr/local/lib/python3.7/dist-packages/ipykernel/kernelapp.py\", line 499, in start\n",
            "    self.io_loop.start()\n",
            "  File \"/usr/local/lib/python3.7/dist-packages/tornado/platform/asyncio.py\", line 132, in start\n",
            "    self.asyncio_loop.run_forever()\n",
            "  File \"/usr/lib/python3.7/asyncio/base_events.py\", line 541, in run_forever\n",
            "    self._run_once()\n",
            "  File \"/usr/lib/python3.7/asyncio/base_events.py\", line 1786, in _run_once\n",
            "    handle._run()\n",
            "  File \"/usr/lib/python3.7/asyncio/events.py\", line 88, in _run\n",
            "    self._context.run(self._callback, *self._args)\n",
            "  File \"/usr/local/lib/python3.7/dist-packages/tornado/platform/asyncio.py\", line 122, in _handle_events\n",
            "    handler_func(fileobj, events)\n",
            "  File \"/usr/local/lib/python3.7/dist-packages/tornado/stack_context.py\", line 300, in null_wrapper\n",
            "    return fn(*args, **kwargs)\n",
            "  File \"/usr/local/lib/python3.7/dist-packages/zmq/eventloop/zmqstream.py\", line 452, in _handle_events\n",
            "    self._handle_recv()\n",
            "  File \"/usr/local/lib/python3.7/dist-packages/zmq/eventloop/zmqstream.py\", line 481, in _handle_recv\n",
            "    self._run_callback(callback, msg)\n",
            "  File \"/usr/local/lib/python3.7/dist-packages/zmq/eventloop/zmqstream.py\", line 431, in _run_callback\n",
            "    callback(*args, **kwargs)\n",
            "  File \"/usr/local/lib/python3.7/dist-packages/tornado/stack_context.py\", line 300, in null_wrapper\n",
            "    return fn(*args, **kwargs)\n",
            "  File \"/usr/local/lib/python3.7/dist-packages/ipykernel/kernelbase.py\", line 283, in dispatcher\n",
            "    return self.dispatch_shell(stream, msg)\n",
            "  File \"/usr/local/lib/python3.7/dist-packages/ipykernel/kernelbase.py\", line 233, in dispatch_shell\n",
            "    handler(stream, idents, msg)\n",
            "  File \"/usr/local/lib/python3.7/dist-packages/ipykernel/kernelbase.py\", line 399, in execute_request\n",
            "    user_expressions, allow_stdin)\n",
            "  File \"/usr/local/lib/python3.7/dist-packages/ipykernel/ipkernel.py\", line 208, in do_execute\n",
            "    res = shell.run_cell(code, store_history=store_history, silent=silent)\n",
            "  File \"/usr/local/lib/python3.7/dist-packages/ipykernel/zmqshell.py\", line 537, in run_cell\n",
            "    return super(ZMQInteractiveShell, self).run_cell(*args, **kwargs)\n",
            "  File \"/usr/local/lib/python3.7/dist-packages/IPython/core/interactiveshell.py\", line 2718, in run_cell\n",
            "    interactivity=interactivity, compiler=compiler, result=result)\n",
            "  File \"/usr/local/lib/python3.7/dist-packages/IPython/core/interactiveshell.py\", line 2822, in run_ast_nodes\n",
            "    if self.run_code(code, result):\n",
            "  File \"/usr/local/lib/python3.7/dist-packages/IPython/core/interactiveshell.py\", line 2882, in run_code\n",
            "    exec(code_obj, self.user_global_ns, self.user_ns)\n",
            "  File \"<ipython-input-8-209b9865e905>\", line 9, in <module>\n",
            "    batch_size=20)\n",
            "  File \"/usr/local/lib/python3.7/dist-packages/keras/preprocessing/image.py\", line 1109, in flow_from_dataframe\n",
            "    '`class_mode` \"raw\".', DeprecationWarning)\n",
            "  File \"/usr/local/lib/python3.7/dist-packages/tensorflow/python/platform/tf_logging.py\", line 178, in warning\n",
            "    get_logger().warning(msg, *args, **kwargs)\n",
            "Message: '`class_mode` \"other\" is deprecated, please use `class_mode` \"raw\".'\n",
            "Arguments: (<class 'DeprecationWarning'>,)\n"
          ]
        },
        {
          "output_type": "stream",
          "name": "stdout",
          "text": [
            "Found 3968 validated image filenames.\n",
            "Found 566 validated image filenames.\n"
          ]
        }
      ]
    },
    {
      "cell_type": "markdown",
      "metadata": {
        "id": "e29a4db3-129d-4863-b470-024003f75e04"
      },
      "source": [
        "2. Create a CNN that has the following hidden layers:\n",
        "\n",
        "    a. 2D convolution layer with a 3x3 kernel size, has 128 filters, stride of 1 and padded to yield the same size as input, followed by a ReLU activation layer\n",
        "    \n",
        "    b. Max pooling layer of 2x2\n",
        "    \n",
        "    c. Dense layer with 128 dimensions and ReLU as the activation layer"
      ],
      "id": "e29a4db3-129d-4863-b470-024003f75e04"
    },
    {
      "cell_type": "code",
      "metadata": {
        "id": "7b417843-ffc4-4614-b2ef-964f8ec3e510",
        "colab": {
          "base_uri": "https://localhost:8080/"
        },
        "outputId": "3d7c3c2b-8e62-47f5-947f-5a1f4a7f21f3"
      },
      "source": [
        "#code here\n",
        "model=models.Sequential()\n",
        "model.add(layers.Conv2D(128, (3,3), padding='same', activation='relu',input_shape=(200,200,3), strides=1))\n",
        "model.add(layers.MaxPooling2D(pool_size=(2,2)))\n",
        "model.add(layers.Dense(128, activation='relu'))\n",
        "model.add(Flatten())\n",
        "model.add(Dense(1, activation=\"sigmoid\"))\n",
        "model.summary()"
      ],
      "id": "7b417843-ffc4-4614-b2ef-964f8ec3e510",
      "execution_count": 9,
      "outputs": [
        {
          "output_type": "stream",
          "name": "stdout",
          "text": [
            "Model: \"sequential\"\n",
            "_________________________________________________________________\n",
            " Layer (type)                Output Shape              Param #   \n",
            "=================================================================\n",
            " conv2d (Conv2D)             (None, 200, 200, 128)     3584      \n",
            "                                                                 \n",
            " max_pooling2d (MaxPooling2D  (None, 100, 100, 128)    0         \n",
            " )                                                               \n",
            "                                                                 \n",
            " dense (Dense)               (None, 100, 100, 128)     16512     \n",
            "                                                                 \n",
            " flatten (Flatten)           (None, 1280000)           0         \n",
            "                                                                 \n",
            " dense_1 (Dense)             (None, 1)                 1280001   \n",
            "                                                                 \n",
            "=================================================================\n",
            "Total params: 1,300,097\n",
            "Trainable params: 1,300,097\n",
            "Non-trainable params: 0\n",
            "_________________________________________________________________\n"
          ]
        }
      ]
    },
    {
      "cell_type": "markdown",
      "metadata": {
        "id": "fb56c38b-a22b-4db7-bdad-ef70e0fb1b1d"
      },
      "source": [
        "3. Train the classifier for 20 epochs with 100 steps per epoch. Also use the validation data during training the estimator."
      ],
      "id": "fb56c38b-a22b-4db7-bdad-ef70e0fb1b1d"
    },
    {
      "cell_type": "code",
      "metadata": {
        "id": "2fd6516a-1093-40a0-bb1a-bb64d909a93d",
        "colab": {
          "base_uri": "https://localhost:8080/"
        },
        "outputId": "de2e5538-8cd6-4d7a-ec92-853d657899e7"
      },
      "source": [
        "#code here\n",
        "opt = Adam()\n",
        "model.compile(optimizer = opt , loss = 'binary_crossentropy'\n",
        ", metrics = ['accuracy'])\n",
        "history=model.fit(train_generator,steps_per_epoch=100,epochs=20,validation_data=v_generator,validation_steps=20)"
      ],
      "id": "2fd6516a-1093-40a0-bb1a-bb64d909a93d",
      "execution_count": 10,
      "outputs": [
        {
          "output_type": "stream",
          "name": "stdout",
          "text": [
            "Epoch 1/20\n",
            "100/100 [==============================] - 406s 4s/step - loss: 0.8895 - accuracy: 0.7435 - val_loss: 0.5158 - val_accuracy: 0.7775\n",
            "Epoch 2/20\n",
            "100/100 [==============================] - 178s 2s/step - loss: 0.4902 - accuracy: 0.7928 - val_loss: 0.4707 - val_accuracy: 0.8050\n",
            "Epoch 3/20\n",
            "100/100 [==============================] - 87s 875ms/step - loss: 0.4391 - accuracy: 0.8230 - val_loss: 0.4141 - val_accuracy: 0.8400\n",
            "Epoch 4/20\n",
            "100/100 [==============================] - 48s 455ms/step - loss: 0.3820 - accuracy: 0.8456 - val_loss: 0.4202 - val_accuracy: 0.8300\n",
            "Epoch 5/20\n",
            "100/100 [==============================] - 28s 284ms/step - loss: 0.3176 - accuracy: 0.8773 - val_loss: 0.4113 - val_accuracy: 0.8400\n",
            "Epoch 6/20\n",
            "100/100 [==============================] - 29s 295ms/step - loss: 0.2825 - accuracy: 0.8965 - val_loss: 0.4802 - val_accuracy: 0.8150\n",
            "Epoch 7/20\n",
            "100/100 [==============================] - 16s 163ms/step - loss: 0.2096 - accuracy: 0.9230 - val_loss: 0.4643 - val_accuracy: 0.8175\n",
            "Epoch 8/20\n",
            "100/100 [==============================] - 19s 193ms/step - loss: 0.1494 - accuracy: 0.9542 - val_loss: 0.5021 - val_accuracy: 0.8350\n",
            "Epoch 9/20\n",
            "100/100 [==============================] - 16s 161ms/step - loss: 0.1146 - accuracy: 0.9605 - val_loss: 0.5703 - val_accuracy: 0.8175\n",
            "Epoch 10/20\n",
            "100/100 [==============================] - 16s 162ms/step - loss: 0.0796 - accuracy: 0.9738 - val_loss: 0.6406 - val_accuracy: 0.8275\n",
            "Epoch 11/20\n",
            "100/100 [==============================] - 16s 163ms/step - loss: 0.0779 - accuracy: 0.9764 - val_loss: 0.7824 - val_accuracy: 0.8050\n",
            "Epoch 12/20\n",
            "100/100 [==============================] - 16s 162ms/step - loss: 0.0790 - accuracy: 0.9728 - val_loss: 0.7111 - val_accuracy: 0.7750\n",
            "Epoch 13/20\n",
            "100/100 [==============================] - 16s 163ms/step - loss: 0.0432 - accuracy: 0.9900 - val_loss: 0.9626 - val_accuracy: 0.8175\n",
            "Epoch 14/20\n",
            "100/100 [==============================] - 16s 160ms/step - loss: 0.0433 - accuracy: 0.9864 - val_loss: 0.8922 - val_accuracy: 0.7950\n",
            "Epoch 15/20\n",
            "100/100 [==============================] - 16s 162ms/step - loss: 0.0399 - accuracy: 0.9899 - val_loss: 0.9724 - val_accuracy: 0.7800\n",
            "Epoch 16/20\n",
            "100/100 [==============================] - 16s 162ms/step - loss: 0.0339 - accuracy: 0.9884 - val_loss: 0.9218 - val_accuracy: 0.8025\n",
            "Epoch 17/20\n",
            "100/100 [==============================] - 16s 162ms/step - loss: 0.0128 - accuracy: 0.9965 - val_loss: 0.9424 - val_accuracy: 0.8125\n",
            "Epoch 18/20\n",
            "100/100 [==============================] - 16s 162ms/step - loss: 0.0123 - accuracy: 0.9980 - val_loss: 0.9481 - val_accuracy: 0.7900\n",
            "Epoch 19/20\n",
            "100/100 [==============================] - 16s 162ms/step - loss: 0.0229 - accuracy: 0.9925 - val_loss: 1.1240 - val_accuracy: 0.7850\n",
            "Epoch 20/20\n",
            "100/100 [==============================] - 16s 161ms/step - loss: 0.0060 - accuracy: 1.0000 - val_loss: 1.0746 - val_accuracy: 0.8025\n"
          ]
        }
      ]
    },
    {
      "cell_type": "markdown",
      "metadata": {
        "id": "bf9ca50f"
      },
      "source": [
        "4. Plot the accuracy and the loss over epochs for train & validation sets"
      ],
      "id": "bf9ca50f"
    },
    {
      "cell_type": "code",
      "metadata": {
        "id": "2c550991",
        "colab": {
          "base_uri": "https://localhost:8080/",
          "height": 279
        },
        "outputId": "9c5ecec1-4038-45cc-abd7-b75f03df36ca"
      },
      "source": [
        "hist=pd.DataFrame(history.history)\n",
        "fig,ax=plt.subplots()\n",
        "ax.plot(hist.index,hist['loss'])\n",
        "ax.plot(hist.index,hist['val_loss'])\n",
        "ax.set_ylabel('Loss')\n",
        "ax2=ax.twinx()\n",
        "ax2.plot(hist.index,hist['accuracy'],'r--')\n",
        "ax2.plot(hist.index,hist['val_accuracy'],'b--')\n",
        "ax2.set_ylabel('Accuracy')\n",
        "ax.set_xlabel('Epochs')\n",
        "plt.show()"
      ],
      "id": "2c550991",
      "execution_count": 11,
      "outputs": [
        {
          "output_type": "display_data",
          "data": {
            "image/png": "[encoded data removed]",
            "text/plain": [
              "<Figure size 432x288 with 2 Axes>"
            ]
          },
          "metadata": {
            "needs_background": "light"
          }
        }
      ]
    },
    {
      "cell_type": "markdown",
      "metadata": {
        "id": "26ce5428-94b5-45f1-a08d-9f36dfacfbfb"
      },
      "source": [
        "5. Add the following layers to (2) before the dense layer:\n",
        "\n",
        "    a. 2D convolution layer with a 3x3 kernel size, has 64 filters, stride of 1 and padded to yield the same size as input, followed by a ReLU activation layer\n",
        "    \n",
        "    b. Max pooling layer of 2x2\n",
        "    \n",
        "    c. 2D convolution layer with a 3x3 kernel size, has 32 filters, stride of 1 and padded to yield the same size as input, followed by a ReLU activation layer\n",
        "    \n",
        "    d. Max pooling layer of 2x2\n",
        "    \n",
        "    e. Dense layer with 256 dimensions and ReLU as the activation layer"
      ],
      "id": "26ce5428-94b5-45f1-a08d-9f36dfacfbfb"
    },
    {
      "cell_type": "code",
      "metadata": {
        "id": "c07e8e76-0caa-41ff-a1da-60d36aad0546",
        "colab": {
          "base_uri": "https://localhost:8080/"
        },
        "outputId": "aa4062d2-240c-4fc6-e9dd-3fd885257f6d"
      },
      "source": [
        "#code here\n",
        "\n",
        "model1=models.Sequential()\n",
        "model1.add(layers.Conv2D(128, (3,3), padding='same', activation='relu',input_shape=(200,200,3)))\n",
        "model1.add(layers.MaxPooling2D(pool_size=(2,2)))\n",
        "model1.add(layers.Conv2D(64, (3,3), padding='same', activation='relu',strides=1))\n",
        "model1.add(layers.MaxPooling2D(pool_size=(2,2)))\n",
        "model1.add(layers.Conv2D(32, (3,3), padding='same', activation='relu',strides=1))\n",
        "model1.add(layers.MaxPooling2D(pool_size=(2,2)))\n",
        "model1.add(layers.Dense(256, activation='relu'))\n",
        "model1.add(layers.Dense(128, activation='relu'))\n",
        "model1.add(Flatten())\n",
        "model1.add(Dense(1, activation=\"sigmoid\"))\n",
        "model1.summary()"
      ],
      "id": "c07e8e76-0caa-41ff-a1da-60d36aad0546",
      "execution_count": 12,
      "outputs": [
        {
          "output_type": "stream",
          "name": "stdout",
          "text": [
            "Model: \"sequential_1\"\n",
            "_________________________________________________________________\n",
            " Layer (type)                Output Shape              Param #   \n",
            "=================================================================\n",
            " conv2d_1 (Conv2D)           (None, 200, 200, 128)     3584      \n",
            "                                                                 \n",
            " max_pooling2d_1 (MaxPooling  (None, 100, 100, 128)    0         \n",
            " 2D)                                                             \n",
            "                                                                 \n",
            " conv2d_2 (Conv2D)           (None, 100, 100, 64)      73792     \n",
            "                                                                 \n",
            " max_pooling2d_2 (MaxPooling  (None, 50, 50, 64)       0         \n",
            " 2D)                                                             \n",
            "                                                                 \n",
            " conv2d_3 (Conv2D)           (None, 50, 50, 32)        18464     \n",
            "                                                                 \n",
            " max_pooling2d_3 (MaxPooling  (None, 25, 25, 32)       0         \n",
            " 2D)                                                             \n",
            "                                                                 \n",
            " dense_2 (Dense)             (None, 25, 25, 256)       8448      \n",
            "                                                                 \n",
            " dense_3 (Dense)             (None, 25, 25, 128)       32896     \n",
            "                                                                 \n",
            " flatten_1 (Flatten)         (None, 80000)             0         \n",
            "                                                                 \n",
            " dense_4 (Dense)             (None, 1)                 80001     \n",
            "                                                                 \n",
            "=================================================================\n",
            "Total params: 217,185\n",
            "Trainable params: 217,185\n",
            "Non-trainable params: 0\n",
            "_________________________________________________________________\n"
          ]
        }
      ]
    },
    {
      "cell_type": "markdown",
      "metadata": {
        "id": "abb8708e-a2f9-455f-b476-08f1bfdf8e8f"
      },
      "source": [
        "6. Train the classifier again for 20 epochs with 100 steps per epoch. Also use the validation data during training the estimator."
      ],
      "id": "abb8708e-a2f9-455f-b476-08f1bfdf8e8f"
    },
    {
      "cell_type": "code",
      "metadata": {
        "id": "6b4bc378-d1c4-4c71-ae4c-a0b6b22a9e04",
        "colab": {
          "base_uri": "https://localhost:8080/"
        },
        "outputId": "d9b88556-ca50-4820-9f73-f30b6d383c9c"
      },
      "source": [
        "#code here\n",
        "opt = Adam()\n",
        "model1.compile(optimizer = opt , loss = 'binary_crossentropy'\n",
        ", metrics = ['accuracy'])\n",
        "history1=model1.fit(train_generator,steps_per_epoch=100,epochs=20,validation_data=v_generator,validation_steps=20)"
      ],
      "id": "6b4bc378-d1c4-4c71-ae4c-a0b6b22a9e04",
      "execution_count": 13,
      "outputs": [
        {
          "output_type": "stream",
          "name": "stdout",
          "text": [
            "Epoch 1/20\n",
            "100/100 [==============================] - 20s 179ms/step - loss: 0.5809 - accuracy: 0.7384 - val_loss: 0.4783 - val_accuracy: 0.7975\n",
            "Epoch 2/20\n",
            "100/100 [==============================] - 17s 172ms/step - loss: 0.4650 - accuracy: 0.8120 - val_loss: 0.4078 - val_accuracy: 0.8350\n",
            "Epoch 3/20\n",
            "100/100 [==============================] - 17s 172ms/step - loss: 0.4641 - accuracy: 0.8053 - val_loss: 0.4665 - val_accuracy: 0.7950\n",
            "Epoch 4/20\n",
            "100/100 [==============================] - 17s 171ms/step - loss: 0.4364 - accuracy: 0.8214 - val_loss: 0.4178 - val_accuracy: 0.8325\n",
            "Epoch 5/20\n",
            "100/100 [==============================] - 17s 173ms/step - loss: 0.4722 - accuracy: 0.8130 - val_loss: 0.4322 - val_accuracy: 0.8225\n",
            "Epoch 6/20\n",
            "100/100 [==============================] - 17s 172ms/step - loss: 0.4190 - accuracy: 0.8300 - val_loss: 0.4542 - val_accuracy: 0.8250\n",
            "Epoch 7/20\n",
            "100/100 [==============================] - 17s 173ms/step - loss: 0.4220 - accuracy: 0.8370 - val_loss: 0.3951 - val_accuracy: 0.8300\n",
            "Epoch 8/20\n",
            "100/100 [==============================] - 17s 172ms/step - loss: 0.3810 - accuracy: 0.8501 - val_loss: 0.3628 - val_accuracy: 0.8350\n",
            "Epoch 9/20\n",
            "100/100 [==============================] - 17s 171ms/step - loss: 0.3822 - accuracy: 0.8495 - val_loss: 0.3790 - val_accuracy: 0.8300\n",
            "Epoch 10/20\n",
            "100/100 [==============================] - 17s 170ms/step - loss: 0.3627 - accuracy: 0.8647 - val_loss: 0.3891 - val_accuracy: 0.8400\n",
            "Epoch 11/20\n",
            "100/100 [==============================] - 17s 172ms/step - loss: 0.3836 - accuracy: 0.8456 - val_loss: 0.3569 - val_accuracy: 0.8500\n",
            "Epoch 12/20\n",
            "100/100 [==============================] - 17s 172ms/step - loss: 0.3499 - accuracy: 0.8541 - val_loss: 0.3985 - val_accuracy: 0.8425\n",
            "Epoch 13/20\n",
            "100/100 [==============================] - 17s 171ms/step - loss: 0.3361 - accuracy: 0.8722 - val_loss: 0.4108 - val_accuracy: 0.8325\n",
            "Epoch 14/20\n",
            "100/100 [==============================] - 17s 173ms/step - loss: 0.3085 - accuracy: 0.8717 - val_loss: 0.3566 - val_accuracy: 0.8450\n",
            "Epoch 15/20\n",
            "100/100 [==============================] - 17s 172ms/step - loss: 0.3027 - accuracy: 0.8800 - val_loss: 0.3556 - val_accuracy: 0.8475\n",
            "Epoch 16/20\n",
            "100/100 [==============================] - 17s 171ms/step - loss: 0.2533 - accuracy: 0.9069 - val_loss: 0.3666 - val_accuracy: 0.8475\n",
            "Epoch 17/20\n",
            "100/100 [==============================] - 17s 172ms/step - loss: 0.2523 - accuracy: 0.8965 - val_loss: 0.3993 - val_accuracy: 0.8475\n",
            "Epoch 18/20\n",
            "100/100 [==============================] - 17s 173ms/step - loss: 0.2223 - accuracy: 0.9170 - val_loss: 0.4299 - val_accuracy: 0.8500\n",
            "Epoch 19/20\n",
            "100/100 [==============================] - 17s 172ms/step - loss: 0.2404 - accuracy: 0.9110 - val_loss: 0.4780 - val_accuracy: 0.8300\n",
            "Epoch 20/20\n",
            "100/100 [==============================] - 17s 172ms/step - loss: 0.2100 - accuracy: 0.9155 - val_loss: 0.4131 - val_accuracy: 0.8550\n"
          ]
        }
      ]
    },
    {
      "cell_type": "markdown",
      "metadata": {
        "id": "e4c95d51-b223-4040-b85e-b3cd0e71b7ab"
      },
      "source": [
        "7. Plot the accuracy and the loss over epochs for train & validation sets"
      ],
      "id": "e4c95d51-b223-4040-b85e-b3cd0e71b7ab"
    },
    {
      "cell_type": "code",
      "metadata": {
        "id": "ab945671-a5f4-43b9-ba1d-0355105f1eb3",
        "colab": {
          "base_uri": "https://localhost:8080/",
          "height": 282
        },
        "outputId": "92cb673e-f7b8-46f2-ec48-0108d390c4b0"
      },
      "source": [
        "#code here\n",
        "hist1=pd.DataFrame(history1.history)\n",
        "fig,ax=plt.subplots()\n",
        "ax.plot(hist1.index,hist1['loss'])\n",
        "ax.plot(hist1.index,hist1['val_loss'])\n",
        "ax.set_ylabel('Loss')\n",
        "ax2=ax.twinx()\n",
        "ax2.plot(hist1.index,hist1['accuracy'],'r--')\n",
        "ax2.plot(hist1.index,hist1['val_accuracy'],'b--')\n",
        "ax2.set_ylabel('Accuracy')\n",
        "ax.set_xlabel('Epochs')\n",
        "plt.show()"
      ],
      "id": "ab945671-a5f4-43b9-ba1d-0355105f1eb3",
      "execution_count": 14,
      "outputs": [
        {
          "output_type": "display_data",
          "data": {
            "image/png": "[encoded data removed]",
            "text/plain": [
              "<Figure size 432x288 with 2 Axes>"
            ]
          },
          "metadata": {
            "needs_background": "light"
          }
        }
      ]
    }
  ]
}